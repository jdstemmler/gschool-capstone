{
 "cells": [
  {
   "cell_type": "markdown",
   "metadata": {},
   "source": [
    "## Notebook for testing out the NYT Scraper"
   ]
  },
  {
   "cell_type": "code",
   "execution_count": 1,
   "metadata": {
    "collapsed": true
   },
   "outputs": [],
   "source": [
    "from bs4 import BeautifulSoup\n",
    "import requests\n",
    "import numpy as np\n",
    "from collections import OrderedDict"
   ]
  },
  {
   "cell_type": "code",
   "execution_count": 115,
   "metadata": {
    "collapsed": false
   },
   "outputs": [],
   "source": [
    "#url = 'http://cooking.nytimes.com/recipes/1017728-spicy-fried-shrimp-with-green-chutney'\n",
    "url = 'http://cooking.nytimes.com/recipes/1015865-tomato-bisque-with-fresh-goat-cheese'\n",
    "if 'cooking.nytimes.com' in url:\n",
    "    html = requests.get(url)\n",
    "else:\n",
    "    print(\"URL is no good\")"
   ]
  },
  {
   "cell_type": "code",
   "execution_count": 116,
   "metadata": {
    "collapsed": false
   },
   "outputs": [],
   "source": [
    "soup = BeautifulSoup(html.content, \"html.parser\")"
   ]
  },
  {
   "cell_type": "code",
   "execution_count": 117,
   "metadata": {
    "collapsed": false
   },
   "outputs": [
    {
     "name": "stdout",
     "output_type": "stream",
     "text": [
      "Tomato Bisque With Fresh Goat Cheese\n"
     ]
    }
   ],
   "source": [
    "try:\n",
    "    recipe_name = soup.find('h1', {'class': 'recipe-title title name'}).text.strip()\n",
    "except AttributeError:\n",
    "    recipe_name = []\n",
    "    \n",
    "print(recipe_name)"
   ]
  },
  {
   "cell_type": "code",
   "execution_count": 118,
   "metadata": {
    "collapsed": false
   },
   "outputs": [
    {
     "name": "stdout",
     "output_type": "stream",
     "text": [
      "Suzanne Lenzer\n"
     ]
    }
   ],
   "source": [
    "# <span class=\"byline-name\" itemprop=\"author\">Martha Rose Shulman</span>\n",
    "\n",
    "try:\n",
    "    recipe_author = soup.find('span', {'class': 'byline-name', 'itemprop': 'author'}).text.strip()\n",
    "except AttributeError:\n",
    "    recipe_author = []\n",
    "    \n",
    "print(recipe_author)"
   ]
  },
  {
   "cell_type": "code",
   "execution_count": 119,
   "metadata": {
    "collapsed": false
   },
   "outputs": [
    {
     "name": "stdout",
     "output_type": "stream",
     "text": [
      "http://graphics8.nytimes.com/images/2014/01/01/dining/01CHEESE4_SPAN/01CHEESE4-articleLarge.jpg\n"
     ]
    }
   ],
   "source": [
    "try:\n",
    "    img_url = soup.find('div', {'class': 'recipe-intro'}).find('img')['src']\n",
    "except AttributeError:\n",
    "    img_url = None\n",
    "\n",
    "print(img_url)"
   ]
  },
  {
   "cell_type": "code",
   "execution_count": 120,
   "metadata": {
    "collapsed": false
   },
   "outputs": [
    {
     "name": "stdout",
     "output_type": "stream",
     "text": [
      "['Time45 minutes', 'Yield4 servings']\n"
     ]
    }
   ],
   "source": [
    "try:\n",
    "    time_yield = [ty.text.strip() for ty in soup.find('ul', {'class': 'recipe-time-yield'}).findAll('li')]\n",
    "except AttributeError:\n",
    "    time_yield = []\n",
    "\n",
    "print(time_yield)"
   ]
  },
  {
   "cell_type": "code",
   "execution_count": 121,
   "metadata": {
    "collapsed": false
   },
   "outputs": [
    {
     "name": "stdout",
     "output_type": "stream",
     "text": [
      "A classic crumbler like Vermont Creamery’s fresh goat cheese can be swirled into a creamy tomato bisque just before serving, enriching the soup and preserving the occasional lemony crumb. \n",
      "\n",
      "Featured in: \n",
      "Turning Cheese Into A Cook’s Assistant.\n"
     ]
    }
   ],
   "source": [
    "try:\n",
    "    description = soup.find('div', {'itemprop': 'description'}).text.strip()\n",
    "except AttributeError:\n",
    "    description = ''\n",
    "    \n",
    "print(description)"
   ]
  },
  {
   "cell_type": "code",
   "execution_count": 122,
   "metadata": {
    "collapsed": false
   },
   "outputs": [
    {
     "name": "stdout",
     "output_type": "stream",
     "text": [
      "['Vegetarian', 'Cheese', 'Tomato']\n"
     ]
    }
   ],
   "source": [
    "try:\n",
    "    categories = [a.text for a in soup.find('p', {'class': 'special-diets tag-block'}).findAll('a')]\n",
    "except AttributeError:\n",
    "    categories = []\n",
    "    \n",
    "print(categories)"
   ]
  },
  {
   "cell_type": "code",
   "execution_count": 123,
   "metadata": {
    "collapsed": false
   },
   "outputs": [
    {
     "name": "stdout",
     "output_type": "stream",
     "text": [
      "[] 0\n"
     ]
    }
   ],
   "source": [
    "rec_in_wrap = soup.find('section', {'class': 'recipe-ingredients-wrap'})\n",
    "headers = [t.text.strip().replace(':', '') for t in rec_in_wrap.findAll('h4', {'class': 'part-name'})]\n",
    "print(headers, len(headers))"
   ]
  },
  {
   "cell_type": "code",
   "execution_count": 124,
   "metadata": {
    "collapsed": false
   },
   "outputs": [
    {
     "data": {
      "text/plain": [
       "0"
      ]
     },
     "execution_count": 124,
     "metadata": {},
     "output_type": "execute_result"
    }
   ],
   "source": [
    "len(headers)"
   ]
  },
  {
   "cell_type": "code",
   "execution_count": 125,
   "metadata": {
    "collapsed": false
   },
   "outputs": [],
   "source": [
    "#l = rec_in_wrap.findAll('ul', {'class': 'recipe-ingredients'})\n",
    "#l[0].findAll('li', {'itemprop': 'recipeIngredient'})\n",
    "if not len(headers):\n",
    "    hix=-1\n",
    "else:\n",
    "    hix = len(headers)\n",
    "\n",
    "ingredients = [[t.text.strip().replace('\\n', ' ') \n",
    "                for t in l.findAll('li', {'itemprop': 'recipeIngredient'})\n",
    "               ] \n",
    "               for l in rec_in_wrap.findAll('ul', {'class': 'recipe-ingredients'})\n",
    "              ][:hix]\n",
    "\n",
    "ingredient_names = [[t.text.strip().replace('\\n', ' ') \n",
    "                for t in l.findAll('span', {'itemprop': 'name'})\n",
    "               ] \n",
    "               for l in rec_in_wrap.findAll('ul', {'class': 'recipe-ingredients'})\n",
    "              ][:hix]\n",
    "\n",
    "ing_dict = OrderedDict()\n",
    "if len(headers) == 0:\n",
    "    ing_dict['main'] = ingredients[0]\n",
    "elif len(headers) >= 0:\n",
    "    for head, ing in zip(headers, ingredients):\n",
    "        ing_dict[head] = ing"
   ]
  },
  {
   "cell_type": "code",
   "execution_count": 126,
   "metadata": {
    "collapsed": false
   },
   "outputs": [
    {
     "data": {
      "text/plain": [
       "OrderedDict([('main',\n",
       "              ['2 tablespoons olive oil',\n",
       "               '1 tablespoon minced garlic',\n",
       "               '1 tablespoon grated ginger',\n",
       "               '1 cup diced onion',\n",
       "               '1 28-ounce can crushed Italian plum tomatoes',\n",
       "               '1 tablespoon sugar',\n",
       "               '1 tablespoon fine sea salt, or to taste',\n",
       "               '½ teaspoon red chile flakes, more to taste',\n",
       "               'Pinch of cayenne pepper',\n",
       "               '4 ounces good-quality fresh goat cheese, such as Vermont Creamery'])])"
      ]
     },
     "execution_count": 126,
     "metadata": {},
     "output_type": "execute_result"
    }
   ],
   "source": [
    "ing_dict"
   ]
  },
  {
   "cell_type": "code",
   "execution_count": 127,
   "metadata": {
    "collapsed": false
   },
   "outputs": [
    {
     "name": "stdout",
     "output_type": "stream",
     "text": [
      "MAIN\n",
      "  2 tablespoons olive oil\n",
      "  1 tablespoon minced garlic\n",
      "  1 tablespoon grated ginger\n",
      "  1 cup diced onion\n",
      "  1 28-ounce can crushed Italian plum tomatoes\n",
      "  1 tablespoon sugar\n",
      "  1 tablespoon fine sea salt, or to taste\n",
      "  ½ teaspoon red chile flakes, more to taste\n",
      "  Pinch of cayenne pepper\n",
      "  4 ounces good-quality fresh goat cheese, such as Vermont Creamery\n"
     ]
    }
   ],
   "source": [
    "# for k, v in ing_dict.items():\n",
    "#     print(k.upper())\n",
    "#     print('  '+'\\n  '.join(v))\n",
    "#     print('')\n",
    "\n",
    "print('\\n'.join([\"{}\\n{}\".format(k.upper(), '  '+'\\n  '.join(v)) for k, v in ing_dict.items()]))"
   ]
  },
  {
   "cell_type": "code",
   "execution_count": 30,
   "metadata": {
    "collapsed": false
   },
   "outputs": [
    {
     "name": "stdout",
     "output_type": "stream",
     "text": [
      "[u'1 pound medium shrimp, peeled and deveined', u'1 teaspoon salt', u'\\xbd teaspoon turmeric', u'\\xbc teaspoon cayenne', u'\\xbd teaspoon black pepper', u'\\xbd teaspoon grated garlic', u'\\xbd teaspoon grated ginger', u'\\xbd teaspoon garam masala', u'1 teaspoon green or red chile, minced', u'2 tablespoons chopped cilantro', u'2 tablespoons chopped mint', u'2 tablespoons lemon juice', u'3 tablespoons chickpea flour (besan flour)', u'3 tablespoons rice flour', u'Vegetable oil for frying']\n"
     ]
    }
   ],
   "source": [
    "try:\n",
    "    ingredients_full = [n.text.strip().replace('\\n', ' ') \n",
    "                        for n in soup.find('ul', {'class': 'recipe-ingredients'})\n",
    "                                                .findAll('li')]\n",
    "    ingredients_name = [n.text for n in soup.find('ul', {'class': 'recipe-ingredients'})\n",
    "                                    .findAll('span', {'itemprop': 'name'})]\n",
    "except AttributeError:\n",
    "    ingredients_full = []\n",
    "    ingredients_name = []\n",
    "    \n",
    "#print(ingredients_name)\n",
    "print(ingredients_full)"
   ]
  },
  {
   "cell_type": "code",
   "execution_count": 13,
   "metadata": {
    "collapsed": false
   },
   "outputs": [
    {
     "name": "stdout",
     "output_type": "stream",
     "text": [
      "[u'Preheat oven to 450.', u'Scrub potatoes under running water; dry them, and rub the skin of each with the oil and a little salt. Pierce the skin of each in three or four places with the tines of a fork.', u'Place the potatoes in the oven, and roast for 45 minutes to an hour, depending on the size of the potatoes, until they offer no resistance when a knife is inserted in their centers.', u'Remove the potatoes from the oven, slice them open down the middle, apply a tablespoon of butter to each one and serve immediately.']\n"
     ]
    }
   ],
   "source": [
    "try:\n",
    "    directions = [l.text for l in soup.find('ol', {'class': 'recipe-steps'}).findAll('li')]\n",
    "except AttributeError:\n",
    "    directions = []\n",
    "    \n",
    "print(directions)"
   ]
  },
  {
   "cell_type": "code",
   "execution_count": 14,
   "metadata": {
    "collapsed": false
   },
   "outputs": [
    {
     "name": "stdout",
     "output_type": "stream",
     "text": [
      "[]\n"
     ]
    }
   ],
   "source": [
    "try:\n",
    "    notes = [l.text.strip() for l in soup.find('ul', {'class': 'recipe-notes'}).findAll('li')]\n",
    "except AttributeError:\n",
    "    notes = []\n",
    "    \n",
    "print(notes)"
   ]
  },
  {
   "cell_type": "code",
   "execution_count": 15,
   "metadata": {
    "collapsed": false
   },
   "outputs": [
    {
     "name": "stdout",
     "output_type": "stream",
     "text": [
      "Nutritional analysis per serving (4 servings)\n",
      "330 calories; 12 grams fat; 7 grams saturated fat; 0 grams trans fat; 3 grams monounsaturated fat; 0 grams polyunsaturated fat; 50 grams carbohydrates; 3 grams dietary fiber; 1 gram sugars; 6 grams protein; 30 milligrams cholesterol; 566 milligrams sodium\n"
     ]
    }
   ],
   "source": [
    "try:\n",
    "    servings = soup.find('div', {'class': 'nutrition-tooltip'}).find('h5').text.strip()\n",
    "    nutrition = soup.find('span', {'class': 'description', 'itemprop': 'nutrition'}).text.strip()\n",
    "except AttributeError:\n",
    "    servings, nutrition = [], []\n",
    "    \n",
    "print(servings)\n",
    "print(nutrition)"
   ]
  },
  {
   "cell_type": "code",
   "execution_count": 2,
   "metadata": {
    "collapsed": true
   },
   "outputs": [],
   "source": [
    "from recipe_parsers import NYTimesCooking"
   ]
  },
  {
   "cell_type": "code",
   "execution_count": 3,
   "metadata": {
    "collapsed": true
   },
   "outputs": [],
   "source": [
    "url = 'http://cooking.nytimes.com/recipes/1017728-spicy-fried-shrimp-with-green-chutney'\n",
    "html = requests.get(url)"
   ]
  },
  {
   "cell_type": "code",
   "execution_count": 4,
   "metadata": {
    "collapsed": false
   },
   "outputs": [
    {
     "name": "stdout",
     "output_type": "stream",
     "text": [
      "NAME\n",
      "----\n",
      "Spicy Fried Shrimp With Green Chutney\n",
      "\n",
      "AUTHOR\n",
      "------\n",
      "David Tanis\n",
      "\n",
      "DESCRIPTION\n",
      "-----------\n",
      "This highly seasoned Indian approach to fried shrimp elevates the concept. Perfect for snacking with drinks, it can be a meal with rice, dal and vegetables.\n",
      "\n",
      "Featured in: \n",
      "Fried Shrimp That Welcome The Spice.\n",
      "\n",
      "INGREDIENTS\n",
      "-----------\n",
      "FOR THE SHRIMP:\n",
      "  1 pound medium shrimp, peeled and deveined\n",
      "  1 teaspoon salt\n",
      "  ½ teaspoon turmeric\n",
      "  ¼ teaspoon cayenne\n",
      "  ½ teaspoon black pepper\n",
      "  ½ teaspoon grated garlic\n",
      "  ½ teaspoon grated ginger\n",
      "  ½ teaspoon garam masala\n",
      "  1 teaspoon green or red chile, minced\n",
      "  2 tablespoons chopped cilantro\n",
      "  2 tablespoons chopped mint\n",
      "  2 tablespoons lemon juice\n",
      "  3 tablespoons chickpea flour (besan flour)\n",
      "  3 tablespoons rice flour\n",
      "  Vegetable oil for frying\n",
      "\n",
      "FOR THE CHUTNEY:\n",
      "  ¼ cup roughly chopped mint\n",
      "  2 cups roughly chopped cilantro\n",
      "  1 small garlic clove, minced\n",
      "  1 tablespoon grated ginger\n",
      "  2 tablespoons brown sugar\n",
      "  ½ teaspoon salt\n",
      "  ½ teaspoon ground cumin\n",
      "  ½ teaspoon chopped green or red chile\n",
      "  2 tablespoons lime juice\n",
      "\n",
      "DIRECTIONS\n",
      "----------\n",
      "Put shrimp in a large bowl and sprinkle with salt. Add turmeric, cayenne, black pepper, garlic, ginger, garam masala, chile, cilantro, mint and lemon juice. Toss to coat well and leave to marinate for at least 15 minutes. (May marinate up to several hours in advance, refrigerated.)\n",
      "\n",
      "Make the chutney: Put mint, cilantro, garlic, ginger, sugar, salt, cumin and chile in the bowl of a food processor or blender. Purée until smooth, using a little ice water as necessary to help blend the mixture. Add lime juice and transfer to a small serving bowl.\n",
      "\n",
      "Just before frying, sprinkle rice flour and chickpea flour over reserved shrimp and toss to coat. Then sprinkle with  1 or 2 tablespoons water and toss. Shrimp should now have a batter-like coating.\n",
      "\n",
      "Heat an inch of oil in a wok until nearly smoking, about 375 degrees. Fry a few shrimp at a time until golden and crisp, a minute or so per side. Drain on paper towels and keep warm until all shrimp are fried. Serve with green chutney.\n",
      "\n",
      "NOTES\n",
      "-----\n",
      "\n",
      "NUTRITION INFORMATION\n",
      "---------------------\n",
      "Nutritional analysis per serving (4 servings)\n",
      "  410 calories\n",
      "   29 grams fat\n",
      "   2 grams saturated fat\n",
      "   0 grams trans fat\n",
      "   20 grams monounsaturated fat\n",
      "   5 grams polyunsaturated fat\n",
      "   20 grams carbohydrates\n",
      "   2 grams dietary fiber\n",
      "   7 grams sugars\n",
      "   17 grams protein\n",
      "   142 milligrams cholesterol\n",
      "   1061 milligrams sodium\n"
     ]
    }
   ],
   "source": [
    "nyt = NYTimesCooking(html.content)\n",
    "print(nyt)"
   ]
  },
  {
   "cell_type": "code",
   "execution_count": 5,
   "metadata": {
    "collapsed": true
   },
   "outputs": [],
   "source": [
    "url = 'http://cooking.nytimes.com/recipes/1015865-tomato-bisque-with-fresh-goat-cheese'\n",
    "html = requests.get(url)"
   ]
  },
  {
   "cell_type": "code",
   "execution_count": null,
   "metadata": {
    "collapsed": true
   },
   "outputs": [],
   "source": [
    "#html = requests.get('http://cooking.nytimes.com/recipes/1014382-hazelnut-cheesecake-with-salted-caramel-glaze')\n",
    "nyt = NYTimesCooking(html.content)"
   ]
  },
  {
   "cell_type": "code",
   "execution_count": 10,
   "metadata": {
    "collapsed": false
   },
   "outputs": [],
   "source": [
    "with open('recipe.txt', 'w') as f:\n",
    "    f.write(nyt.__repr__())"
   ]
  }
 ],
 "metadata": {
  "kernelspec": {
   "display_name": "Python 3",
   "language": "python",
   "name": "python3"
  },
  "language_info": {
   "codemirror_mode": {
    "name": "ipython",
    "version": 3
   },
   "file_extension": ".py",
   "mimetype": "text/x-python",
   "name": "python",
   "nbconvert_exporter": "python",
   "pygments_lexer": "ipython3",
   "version": "3.5.0"
  }
 },
 "nbformat": 4,
 "nbformat_minor": 0
}
