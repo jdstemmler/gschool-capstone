{
 "cells": [
  {
   "cell_type": "code",
   "execution_count": 66,
   "metadata": {
    "collapsed": true
   },
   "outputs": [],
   "source": [
    "%matplotlib inline\n",
    "import matplotlib.pyplot as plt"
   ]
  },
  {
   "cell_type": "code",
   "execution_count": 67,
   "metadata": {
    "collapsed": true
   },
   "outputs": [],
   "source": [
    "from collections import Counter\n",
    "from pprint import pprint\n",
    "import pickle"
   ]
  },
  {
   "cell_type": "code",
   "execution_count": 68,
   "metadata": {
    "collapsed": true
   },
   "outputs": [],
   "source": [
    "from recipetools import search"
   ]
  },
  {
   "cell_type": "code",
   "execution_count": 69,
   "metadata": {
    "collapsed": false
   },
   "outputs": [],
   "source": [
    "# set the location of the capstone directory\n",
    "cap_dir = os.getenv(\"CAPSTONE_DIR\", '/home/ubuntu/gschool-capstone')\n",
    "\n",
    "# set the location of the settings file\n",
    "settings_file = os.path.join(cap_dir, 'settings', 'project_settings.json')\n",
    "\n",
    "# set the pickle paths\n",
    "pickle_path = os.path.join(cap_dir, 'data', 'pickles')\n",
    "\n",
    "with open(os.path.join(pickle_path, 'features.pkl'), 'rb') as f:\n",
    "    features = pickle.load(f)\n",
    "\n",
    "with open(os.path.join(pickle_path, 'topics.pkl'), 'rb') as f:\n",
    "    topics = pickle.load(f)"
   ]
  },
  {
   "cell_type": "code",
   "execution_count": 70,
   "metadata": {
    "collapsed": true
   },
   "outputs": [],
   "source": [
    "query = \"Quinoa, cilantro\"\n",
    "categories = []"
   ]
  },
  {
   "cell_type": "code",
   "execution_count": 71,
   "metadata": {
    "collapsed": false
   },
   "outputs": [
    {
     "name": "stdout",
     "output_type": "stream",
     "text": [
      "['quinoa', 'cilantro']\n"
     ]
    }
   ],
   "source": [
    "terms = search.split_query(query)\n",
    "print(terms)"
   ]
  },
  {
   "cell_type": "code",
   "execution_count": 72,
   "metadata": {
    "collapsed": false
   },
   "outputs": [
    {
     "name": "stdout",
     "output_type": "stream",
     "text": [
      "{'quinoa': ['quinoa',\n",
      "            'raw quinoa',\n",
      "            'red quinoa',\n",
      "            'blond quinoa',\n",
      "            'black quinoa',\n",
      "            'quinoa flour',\n",
      "            'cooked quinoa',\n",
      "            'regular quinoa',\n",
      "            'rainbow quinoa',\n",
      "            'quinoa spaghetti',\n",
      "            'cooked red quinoa',\n",
      "            'cooked black quinoa',\n",
      "            'regular or red quinoa',\n",
      "            'quinoa, rinsed thoroughly',\n",
      "            'cooked red or black quinoa',\n",
      "            'quinoa-oat crumble topping',\n",
      "            'quinoa, cooked (4 cups cooked quinoa)',\n",
      "            'quinoa, brown or red rice, or rice noodles',\n",
      "            'cooked quinoa (any color)',\n",
      "            'cooked quinoa, (1 cup uncooked)',\n",
      "            'cooked quinoa (3/4 cup uncooked)',\n",
      "            'cooked rice or quinoa for serving']}\n",
      "{'cilantro': ['cilantro',\n",
      "              'chopped cilantro',\n",
      "              'baby cilantro',\n",
      "              'cilantro sauce',\n",
      "              'cilantro roots',\n",
      "              'cilantro stems',\n",
      "              'fresh cilantro',\n",
      "              'sprigs cilantro',\n",
      "              'minced cilantro',\n",
      "              'puréed cilantro',\n",
      "              'cilantro leaves',\n",
      "              'cilantro sprigs',\n",
      "              'cilantro or oregano',\n",
      "              'cilantro or mint',\n",
      "              'cilantro and mint',\n",
      "              'salsa de cilantro',\n",
      "              'cilantro, chopped',\n",
      "              'cilantro or chives',\n",
      "              'chopped fresh cilantro',\n",
      "              'cilantro or parsley',\n",
      "              'parsley or cilantro',\n",
      "              'cilantro or epazote',\n",
      "              'coarsely chopped cilantro',\n",
      "              'generous bunch cilantro',\n",
      "              'cilantro, basil or mint',\n",
      "              'finely chopped cilantro',\n",
      "              'roughly chopped cilantro',\n",
      "              'freshly chopped cilantro',\n",
      "              'few sprigs fresh cilantro',\n",
      "              'each parsley and cilantro',\n",
      "              'cilantro stems and leaves',\n",
      "              'minced cilantro.',\n",
      "              'cilantro, leaves and stems',\n",
      "              'cilantro and fresh parsley',\n",
      "              'chopped cilantro leaves',\n",
      "              'cilantro, mint or thai basil',\n",
      "              'chopped fresh cilantro.',\n",
      "              'chopped fresh parsley or cilantro',\n",
      "              'chives, chinese chives or cilantro',\n",
      "              'chives, parsley, thyme or cilantro',\n",
      "              'scallions, chives or cilantro',\n",
      "              'cilantro, washed, leaves only',\n",
      "              'dry cilantro leaves',\n",
      "              'dill, parsley, mint or cilantro',\n",
      "              'chopped cilantro, optional',\n",
      "              'cilantro leaves and tender stems',\n",
      "              'fresh cilantro leaves',\n",
      "              'packed cilantro leaves',\n",
      "              'minced cilantro leaves',\n",
      "              'chopped cilantro, with stems',\n",
      "              'chopped cilantro for garnish',\n",
      "              'chopped fresh cilantro leaves',\n",
      "              'slivered cilantro leaves',\n",
      "              'cilantro, mint, scallions or parsley',\n",
      "              'basil and cilantro leaves',\n",
      "              'mint, cilantro or parsley',\n",
      "              'cilantro, basil, tarragon, other herbs',\n",
      "              'coarsely chopped cilantro leaves',\n",
      "              'chopped cilantro (stems are o.k.)',\n",
      "              'chopped fresh cilantro for garnish',\n",
      "              'cilantro, chopped, plus additional sprigs',\n",
      "              'chopped cilantro leaves for garnish',\n",
      "              'finely sliced cilantro leaves',\n",
      "              'small bunch cilantro, cleaned',\n",
      "              'sour cream and cilantro sprigs',\n",
      "              'loosely packed cilantro leaves',\n",
      "              'each chopped cilantro and mint',\n",
      "              'small bunch cilantro, leaves only',\n",
      "              'fresh chopped cilantro for garnish',\n",
      "              'minced cilantro or flat-leaf parsley',\n",
      "              'finely chopped fresh cilantro leaves',\n",
      "              'cilantro, minced, plus 8 cilantro sprigs, for garnish',\n",
      "              'mint, cilantro, basil or a combination',\n",
      "              'lemon grass or pale green cilantro roots',\n",
      "              'celery leaves, mint, thai basil or cilantro leaves',\n",
      "              'chopped cilantro plus whole cilantro leaves for garnish',\n",
      "              'chopped fresh dill, cilantro, mint or chives for garnish',\n",
      "              'ach cilantro leaves, mint leaves and thai basil',\n",
      "              'chopped cilantro, leaves and tender stems, roughly chopped',\n",
      "              'mixed greens and herbs (sorrel, frisée, arugula, cilantro)']}\n"
     ]
    }
   ],
   "source": [
    "ngrams = search.gen_ngrams(features, terms)\n",
    "for k, v in ngrams.items():\n",
    "    pprint({k: [val[0] for val in v]})"
   ]
  },
  {
   "cell_type": "code",
   "execution_count": 73,
   "metadata": {
    "collapsed": false
   },
   "outputs": [
    {
     "name": "stdout",
     "output_type": "stream",
     "text": [
      "('quinoa: {9985, 5890, 9987, 10504, 1545, 6157, 6415, 6162, 15635, 2069, 6167, '\n",
      " '5665, 5666, 6179, 6180, 5669, 6181, 6182, 15649, 9770, 9775, 9520, 7729, '\n",
      " '9522, 9778, 9776, 11061, 9777, 16439, 10552, 15933, 5966, 10065, 10836, '\n",
      " '10837, 9816, 10843, 10844, 3174, 9831, 9834, 15723, 10609, 10872, 15484, '\n",
      " '11132, 13695, 10112, 9858, 5514, 143, 10898, 9879, 9881, 6812, 9637, 10662, '\n",
      " '10663, 5032, 5031, 9642, 10156, 10157, 10930, 10935, 5825, 5826, 15557, '\n",
      " '5829, 5830, 11721, 15562, 9933, 3278, 3279, 3280, 3281, 5596, 15839, 9953, '\n",
      " '6625, 15843, 15587, 15077, 9450, 16109, 11246, 11249, 10228, 15865, 10490, '\n",
      " '16638}')\n",
      "('cilantro: {10240, 4097, 6146, 10245, 2054, 14343, 16392, 10249, 10250, '\n",
      " '12296, 10252, 16394, 14350, 16393, 10256, 16401, 2069, 10261, 10263, 10262, '\n",
      " '6169, 6170, 10264, 10268, 16413, 10267, 16411, 10272, 10273, 4130, 10275, '\n",
      " '12324, 16412, 2087, 12327, 4138, 6187, 10283, 6189, 6190, 14383, 10282, '\n",
      " '4140, 12338, 6195, 4148, 10292, 6198, 10293, 14392, 6201, 8241, 10295, '\n",
      " '14391, 6205, 6206, 6209, 4163, 4164, 8262, 8263, 6216, 14408, 10314, 8271, '\n",
      " '16469, 4182, 8278, 10327, 12375, 16476, 10336, 10344, 6250, 6253, 6255, '\n",
      " '16495, 10354, 12403, 4212, 12404, 6262, 6263, 12408, 10360, 10362, 10364, '\n",
      " '16510, 16511, 16512, 12417, 6275, 14468, 4229, 10372, 4231, 4230, 6280, '\n",
      " '8331, 12429, 16525, 10381, 6288, 10384, 14482, 4238, 2192, 12432, 6291, '\n",
      " '16526, 12441, 14491, 6300, 12445, 159, 10400, 6305, 14500, 6310, 10407, '\n",
      " '4264, 16551, 8362, 6315, 10410, 8365, 6312, 10416, 10418, 4275, 2236, 14524, '\n",
      " '10433, 12485, 10438, 10441, 16586, 12492, 10449, 10451, 10452, 6357, 10458, '\n",
      " '4324, 12519, 10475, 10476, 10481, 4339, 14584, 6394, 16638, 16639, 6403, '\n",
      " '14598, 16646, 6408, 10510, 6415, 14614, 10522, 6428, 6430, 8485, 2094, 2345, '\n",
      " '4394, 10537, 10538, 301, 298, 12588, 14640, 10549, 6454, 6455, 10552, 12601, '\n",
      " '6457, 6460, 12606, 322, 14658, 14662, 14664, 6475, 14670, 10581, 14683, '\n",
      " '10588, 10591, 6497, 12641, 8547, 10593, 10599, 4456, 361, 10602, 10600, 364, '\n",
      " '10604, 363, 6524, 6525, 14720, 6535, 14727, 6547, 10644, 12694, 12696, 6554, '\n",
      " '12701, 10656, 8609, 6563, 12709, 6566, 14757, 6568, 8617, 6570, 6575, 10678, '\n",
      " '6584, 12729, 12730, 12728, 10691, 6596, 6597, 8644, 6600, 12746, 6197, 6605, '\n",
      " '6606, 10701, 6608, 6609, 6610, 10706, 10708, 14806, 10711, 14808, 6618, '\n",
      " '2523, 12762, 12766, 10720, 6625, 6629, 6630, 10726, 10728, 10729, 490, 491, '\n",
      " '6634, 12776, 10737, 6644, 6648, 12794, 16891, 509, 510, 2559, 12800, 10754, '\n",
      " '12805, 12809, 12813, 14862, 537, 8729, 12829, 14877, 545, 10788, 12841, '\n",
      " '12842, 10798, 14896, 10804, 12854, 12857, 6714, 10811, 12861, 14909, 8776, '\n",
      " '14920, 588, 12879, 597, 10837, 12894, 12333, 6762, 12908, 10865, 10870, '\n",
      " '14966, 14969, 16408, 12924, 647, 10889, 10890, 10897, 10898, 10899, 10900, '\n",
      " '10902, 6812, 10909, 671, 8864, 6818, 12964, 8873, 6829, 12973, 10930, 6835, '\n",
      " '6836, 6841, 12987, 8892, 6845, 10941, 10944, 10945, 12996, 6853, 6854, 6859, '\n",
      " '10956, 15054, 15055, 13024, 737, 6884, 13032, 15080, 10987, 15091, 8951, '\n",
      " '11003, 16434, 11005, 13062, 15114, 15115, 15118, 15125, 6934, 13077, 13080, '\n",
      " '15126, 799, 6950, 15148, 13105, 15156, 13111, 827, 15165, 11071, 1794, '\n",
      " '11077, 13127, 840, 15177, 9037, 15183, 6999, 11104, 2914, 9059, 15202, 9061, '\n",
      " '15206, 15207, 11114, 7020, 13169, 7026, 15217, 13179, 15229, 4998, 13191, '\n",
      " '7052, 15247, 7061, 11164, 15261, 15265, 935, 7079, 9128, 13230, 13231, '\n",
      " '15285, 7094, 13239, 11195, 11196, 15293, 13248, 13249, 13255, 13256, 15304, '\n",
      " '11210, 7115, 9163, 13258, 15307, 13266, 15318, 983, 11231, 15330, 3045, '\n",
      " '7142, 3047, 13290, 7153, 3058, 15348, 3067, 11262, 15360, 1028, 15364, '\n",
      " '11275, 3086, 13327, 11280, 1042, 3094, 3095, 3096, 13337, 7194, 13339, 9978, '\n",
      " '3101, 13341, 11301, 9982, 3119, 13362, 15412, 15417, 3130, 15421, 3140, '\n",
      " '11334, 11335, 3147, 13390, 3151, 3153, 3154, 11346, 7254, 3166, 11362, 7268, '\n",
      " '15463, 3176, 7272, 3175, 11373, 15469, 9328, 11380, 15477, 13431, 3192, '\n",
      " '15481, 13435, 3200, 13441, 12034, 15496, 11401, 11402, 3215, 13456, 7313, '\n",
      " '7314, 3219, 7315, 13457, 3218, 7319, 15512, 3226, 3227, 15516, 3228, 3234, '\n",
      " '15522, 15523, 13477, 3236, 3244, 13485, 13487, 11443, 3255, 13497, 7355, '\n",
      " '7357, 9408, 11460, 11640, 15562, 13518, 3281, 3283, 13527, 13528, 15582, '\n",
      " '9440, 15587, 7397, 11511, 3325, 1285, 13574, 9481, 15627, 15628, 9485, 1295, '\n",
      " '9488, 9489, 11538, 1299, 9495, 9496, 9498, 13594, 7452, 11546, 1311, 1312, '\n",
      " '1313, 11557, 7462, 1320, 7466, 1323, 15661, 3374, 13616, 3378, 9524, 15670, '\n",
      " '3382, 11580, 1341, 1342, 9535, 11586, 13634, 13636, 13637, 13638, 15684, '\n",
      " '9545, 7498, 3403, 1356, 15693, 13646, 7503, 13648, 15696, 1354, 11605, 3414, '\n",
      " '11607, 9560, 1369, 9564, 3427, 5476, 5477, 11622, 3428, 9574, 15722, 5483, '\n",
      " '11628, 5484, 9583, 5494, 3447, 3448, 9591, 13687, 11643, 13692, 11645, 1406, '\n",
      " '1400, 7552, 13691, 11646, 3464, 5513, 5515, 5516, 1419, 5518, 5520, 9617, '\n",
      " '1428, 5527, 9627, 9629, 1438, 13727, 11683, 5540, 15790, 13749, 1462, 5559, '\n",
      " '5560, 7607, 7609, 5563, 9656, 13760, 13761, 5570, 15809, 13766, 3527, 9672, '\n",
      " '1480, 5577, 3531, 13771, 5579, 3533, 5581, 3536, 9677, 9682, 9683, 13781, '\n",
      " '13783, 11735, 1497, 3543, 1501, 9693, 15838, 5600, 1505, 3554, 9699, 9700, '\n",
      " '13799, 9705, 9706, 9707, 3563, 9711, 9712, 9713, 3570, 5618, 9716, 11766, '\n",
      " '11767, 9720, 13816, 3578, 7675, 5627, 13818, 3575, 7679, 1535, 5633, 3586, '\n",
      " '11778, 3589, 1543, 1545, 9737, 9743, 9744, 5649, 1554, 1555, 9746, 9747, '\n",
      " '15892, 9751, 9752, 3609, 9754, 9753, 15894, 5661, 15896, 3606, 7712, 13860, '\n",
      " '1576, 9768, 9770, 1579, 5676, 3625, 1582, 1583, 5679, 5680, 9776, 9778, '\n",
      " '3627, 7733, 9774, 3632, 11832, 1595, 9787, 3645, 3646, 11838, 5696, 15932, '\n",
      " '9794, 9795, 3653, 11846, 3655, 9799, 3657, 9797, 5708, 5709, 9805, 1615, '\n",
      " '11855, 11854, 3665, 15955, 5718, 1623, 5719, 5721, 5722, 15959, 15962, 5725, '\n",
      " '13919, 11872, 13922, 1636, 5733, 9828, 9829, 9830, 1644, 5740, 3693, 9838, '\n",
      " '5748, 15989, 1654, 15990, 3704, 5754, 1661, 3710, 5760, 1667, 5764, 1670, '\n",
      " '9864, 9867, 13964, 5772, 9868, 11920, 11922, 9877, 3734, 16021, 16023, 5785, '\n",
      " '16024, 9881, 5788, 9883, 16030, 16032, 5794, 3747, 5798, 9896, 3754, 9899, '\n",
      " '9901, 9902, 1715, 16053, 3767, 1729, 3777, 16065, 3600, 14021, 7879, 11978, '\n",
      " '7883, 7888, 1745, 14033, 11992, 5855, 1760, 16099, 5860, 1763, 3811, 9959, '\n",
      " '5861, 14051, 12010, 14059, 14062, 12016, 5873, 9969, 12018, 3828, 5877, '\n",
      " '14070, 12023, 3831, 12025, 5882, 9979, 9980, 1789, 12027, 12028, 9977, 9985, '\n",
      " '5890, 1795, 5892, 14084, 9986, 3847, 16135, 1793, 16138, 14091, 5898, 1805, '\n",
      " '3848, 9998, 3859, 5910, 10007, 12056, 5653, 3867, 14108, 10013, 1820, 3871, '\n",
      " '12064, 5917, 10018, 14114, 7972, 12066, 5924, 5654, 10024, 7977, 1835, 5931, '\n",
      " '10028, 16174, 10034, 3891, 10038, 5943, 5944, 1849, 3894, 14139, 5945, '\n",
      " '10046, 12095, 1860, 1861, 3910, 8007, 8009, 1866, 5963, 8012, 12108, 3918, '\n",
      " '1872, 8017, 3922, 12114, 10070, 10071, 8026, 10076, 16223, 5984, 14176, '\n",
      " '3938, 1892, 14181, 3941, 10090, 6000, 6004, 6007, 3960, 3961, 1915, 16255, '\n",
      " '3970, 14212, 3972, 14217, 1932, 10124, 1934, 10130, 6039, 14234, 6043, 6044, '\n",
      " '1949, 12187, 3998, 14240, 3994, 4002, 10146, 1960, 6057, 10158, 10163, '\n",
      " '10166, 8120, 10177, 4039, 16334, 2001, 6100, 6101, 10213, 6121, 6124, 10221, '\n",
      " '2031, 4080, 2033, 6131, 10228, 12276, 16376, 6138, 6140, 16381}')\n"
     ]
    }
   ],
   "source": [
    "recipe_sets = search.gen_recipe_sets(features, categories, ngrams)\n",
    "for k, v in recipe_sets.items():\n",
    "    pprint('{}: {}'.format(k, v))"
   ]
  },
  {
   "cell_type": "code",
   "execution_count": 74,
   "metadata": {
    "collapsed": false
   },
   "outputs": [
    {
     "name": "stdout",
     "output_type": "stream",
     "text": [
      "[ 9985  5890  6625 15587  1545  9770 15562  6415  9776  3281  9778 10898\n",
      " 10930  2069 10837 10228 10552  9881  6812 16638]\n",
      "20\n"
     ]
    }
   ],
   "source": [
    "match = search.find_initial_matches(recipe_sets)\n",
    "print(match)\n",
    "pprint(len(match))"
   ]
  },
  {
   "cell_type": "code",
   "execution_count": 75,
   "metadata": {
    "collapsed": false
   },
   "outputs": [],
   "source": [
    "cluster, distances = search.compute_clusters(topics, match)"
   ]
  },
  {
   "cell_type": "code",
   "execution_count": 76,
   "metadata": {
    "collapsed": false
   },
   "outputs": [
    {
     "name": "stdout",
     "output_type": "stream",
     "text": [
      "Counter({2: 10, 0: 7, 1: 2, 3: 1})\n"
     ]
    },
    {
     "data": {
      "image/png": "[encoded data removed]",
      "text/plain": [
       "<matplotlib.figure.Figure at 0x11542e2b0>"
      ]
     },
     "metadata": {},
     "output_type": "display_data"
    }
   ],
   "source": [
    "c = Counter(cluster.labels_)\n",
    "l, r = np.array(list(c.keys()))-.5, np.array(list(c.keys()))+.5\n",
    "k = set.union(set(l), set(r))\n",
    "plt.hist(cluster.labels_, bins=list(sorted(k)))\n",
    "plt.xlim(-.5, None);\n",
    "print(c)"
   ]
  },
  {
   "cell_type": "code",
   "execution_count": 77,
   "metadata": {
    "collapsed": false
   },
   "outputs": [
    {
     "data": {
      "text/plain": [
       "array([[14,  7,  6, 13, 19],\n",
       "       [ 6,  4,  8, 19,  9],\n",
       "       [ 7, 17, 12,  0, 14],\n",
       "       [19, 17,  0, 11,  5]])"
      ]
     },
     "execution_count": 77,
     "metadata": {},
     "output_type": "execute_result"
    }
   ],
   "source": [
    "top_topics = cluster.cluster_centers_.argsort()[:, -5:][:, ::-1]\n",
    "top_topics"
   ]
  },
  {
   "cell_type": "code",
   "execution_count": 78,
   "metadata": {
    "collapsed": false,
    "scrolled": false
   },
   "outputs": [
    {
     "name": "stdout",
     "output_type": "stream",
     "text": [
      "Cluster 0\n",
      "lemon juice, whisk lemon, whisk lemon juice, juice vinegar, lemon juice vinegar, lemon juice taste, salad toss, juice taste, juice garlic, toss salad\n",
      "taste adjust, adjust seasoning, taste adjust seasoning, adjust seasonings, taste adjust seasonings, 30 seconds, bouquet garni, fragrant 30, fragrant 30 seconds, onion tender\n",
      "fry minute, garlic ginger, flat bottomed wok, bottomed wok, 14 inch flat, inch flat bottomed, inch flat, flat bottomed, drop evaporates, fry 10\n",
      "filled ice, glass filled, glass ice, glass filled ice, rocks glass, ice garnish, highball glass, garnish orange, orange twist, filled ice garnish\n",
      "wash trim, wash dry, chop onion, mince garlic, saute onion, trim seed, onion begins, wash trim seed, wash dry chop, dry chop\n",
      "\n",
      "Cluster 1\n",
      "fry minute, garlic ginger, flat bottomed wok, bottomed wok, 14 inch flat, inch flat bottomed, inch flat, flat bottomed, drop evaporates, fry 10\n",
      "doesn burn, run underneath, eggs run underneath, eggs run, lifting edges, shake gently, hand lifting edges, hand lifting, tilting slightly, shake gently tilting\n",
      "baking powder, flour baking, baking soda, flour baking powder, comes clean, sift flour, inserted center, flour mixture, preheat 350, sift flour baking\n",
      "wash trim, wash dry, chop onion, mince garlic, saute onion, trim seed, onion begins, wash trim seed, wash dry chop, dry chop\n",
      "ladleful stock, stock rice, stock just, continue fashion, stock continue, simmering stock, just rice, adding stock, absorbed ladleful, absorbed ladleful stock\n",
      "\n",
      "Cluster 2\n",
      "taste adjust, adjust seasoning, taste adjust seasoning, adjust seasonings, taste adjust seasonings, 30 seconds, bouquet garni, fragrant 30, fragrant 30 seconds, onion tender\n",
      "food processor, process smooth, processor process, food processor process, blender food, blender food processor, steel blade, processor fitted, food processor fitted, fitted steel\n",
      "baking dish, preheat 350, bread crumbs, dish bake, quart baking, tablespoons butter, quart baking dish, baking dish bake, bake 30, foil bake\n",
      "season taste, paper towels, room temperature, slotted spoon, golden brown, cooking liquid, dry paper, dry paper towels, lightly browned, melt butter\n",
      "lemon juice, whisk lemon, whisk lemon juice, juice vinegar, lemon juice vinegar, lemon juice taste, salad toss, juice taste, juice garlic, toss salad\n",
      "\n",
      "Cluster 3\n",
      "wash trim, wash dry, chop onion, mince garlic, saute onion, trim seed, onion begins, wash trim seed, wash dry chop, dry chop\n",
      "food processor, process smooth, processor process, food processor process, blender food, blender food processor, steel blade, processor fitted, food processor fitted, fitted steel\n",
      "season taste, paper towels, room temperature, slotted spoon, golden brown, cooking liquid, dry paper, dry paper towels, lightly browned, melt butter\n",
      "bay leaf, remove bay, remove bay leaf, tablespoon butter, bay leaf thyme, leaf thyme, onion garlic, thyme bay leaf, thyme bay, butter onion\n",
      "cocktail glass, chilled cocktail, chilled cocktail glass, ice shake, strain chilled, shaker ice, strain chilled cocktail, cocktail shaker, shake strain, shaker ice shake\n",
      "\n"
     ]
    }
   ],
   "source": [
    "def print_words_for_topic(H, topic_number, word_list):\n",
    "    return ', '.join(np.array(word_list)[np.argsort(H[topic_number])[-10:][::-1]])\n",
    "    \n",
    "for ix, cls in enumerate(top_topics):\n",
    "    print(\"Cluster {}\".format(ix))\n",
    "    for topic in cls:\n",
    "        print(print_words_for_topic(topics['H'], topic, features['directions_vocab']))\n",
    "    print('')"
   ]
  }
 ],
 "metadata": {
  "kernelspec": {
   "display_name": "Python 3",
   "language": "python",
   "name": "python3"
  },
  "language_info": {
   "codemirror_mode": {
    "name": "ipython",
    "version": 3
   },
   "file_extension": ".py",
   "mimetype": "text/x-python",
   "name": "python",
   "nbconvert_exporter": "python",
   "pygments_lexer": "ipython3",
   "version": "3.5.1"
  }
 },
 "nbformat": 4,
 "nbformat_minor": 0
}
