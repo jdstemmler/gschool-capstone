{
 "cells": [
  {
   "cell_type": "markdown",
   "metadata": {},
   "source": [
    "# Basic Useage of a Recipe Parser\n",
    "\n",
    "This notebook demonstrates the use of a recipe parser, in this case the NYTimes Cooking parser. The parser is used to translate the HTML content of the page into things python can understand. Each parser object has the following variables available to it:\n",
    "\n",
    "```python\n",
    "recipe_name      # the name of the recipe\n",
    "recipe_author    # the author of the recipe\n",
    "time_yield       # the time it takes to cook and the yield\n",
    "description      # description or introduction of the recipe\n",
    "ingredients_full # the full ingredient list, including quantities (eg `3 Tablespoons sugar`)\n",
    "ingredients_name # just the name of the ingredients (eg `sugar`)\n",
    "directions       # directions for preparation\n",
    "notes            # any notes or tips to accompany the recipe\n",
    "categories       # categories or tags associated with the recipe\n",
    "servings         # number of servings\n",
    "nutrition        # nutrition information, if available\n",
    "img_url          # url of any images for the recipe\n",
    "```\n",
    "Calling `print()` on the recipe (demonstrated below) produces a nice text representation of the recipe"
   ]
  },
  {
   "cell_type": "code",
   "execution_count": 5,
   "metadata": {
    "collapsed": false
   },
   "outputs": [],
   "source": [
    "# import requests to fetch the html content and the recipe parser\n",
    "import requests\n",
    "from recipetools.parsers import NYTimesCooking"
   ]
  },
  {
   "cell_type": "markdown",
   "metadata": {},
   "source": [
    "The recipe parser requires as input the raw HTML content as produced by requests. It's possible (and quite likely) that some version of urllib could provide the same functionality, but this package uses requests."
   ]
  },
  {
   "cell_type": "code",
   "execution_count": 6,
   "metadata": {
    "collapsed": false
   },
   "outputs": [],
   "source": [
    "html = requests.get('http://cooking.nytimes.com/recipes/1017919-butternut-squash-and-bacon-risotto')\n",
    "nyt = NYTimesCooking(html.content)"
   ]
  },
  {
   "cell_type": "markdown",
   "metadata": {},
   "source": [
    "We will print out the recipe in nice text form"
   ]
  },
  {
   "cell_type": "code",
   "execution_count": 7,
   "metadata": {
    "collapsed": false
   },
   "outputs": [
    {
     "name": "stdout",
     "output_type": "stream",
     "text": [
      "NAME\n",
      "----\n",
      "Butternut Squash and Bacon Risotto\n",
      "\n",
      "AUTHOR\n",
      "------\n",
      "Florence Fabricant\n",
      "\n",
      "DESCRIPTION\n",
      "-----------\n",
      "The classic risotto technique applies here, though with a frugal twist. I blended the cooking liquid for the butternut squash and about half of the diced cooked squash itself to produce my vegetable broth. The rest of the diced squash is folded in near the end of cooking. A generous helping of smoked bacon gives the result main-dish heft. This risotto does not need a final dollop of butter or a dusting of cheese.\n",
      "\n",
      "Featured in: \n",
      "Oregon Pinot Noir Delivers An Element Of Surprise.\n",
      "\n",
      "INGREDIENTS\n",
      "-----------\n",
      "1 large butternut squash, about 3 pounds, peeled, cored and diced in 1/2-inch pieces\n",
      "Salt\n",
      "6 ounces thick-sliced smoked bacon\n",
      "1 cup finely chopped onion\n",
      "1 teaspoon ground sage\n",
      "1 ½ cups arborio rice\n",
      "½ cup dry white wine\n",
      "Ground black pepper\n",
      "1 tablespoon fresh sage leaves, slivered\n",
      "\n",
      "DIRECTIONS\n",
      "----------\n",
      "Place squash in a saucepan with 4 cups salted water. Bring to a boil and simmer until tender, about 10 minutes. Drain, reserving the cooking liquid. Set aside half the diced squash. Place the rest, with 2 cups of the cooking liquid, in a blender or food processor and process until smooth. Return this thin squash purée and the rest of the cooking liquid to the saucepan in which the squash was cooked. You should have about 5 cups.\n",
      "\n",
      "Fry half the bacon. Set aside. Chop the rest. Place chopped bacon in a 3-quart sauté pan over medium-low heat. Cook, stirring, until bacon barely starts to color. Add the onion, continue cooking until onion is translucent. Stir in half the ground sage, then the rice. Cook, stirring on medium heat, a few minutes until the grains of rice start to look chalky. Stir in the wine and cook until most has evaporated.\n",
      "\n",
      "Bring the saucepan of squash liquid to a simmer and start to add it to the rice, about half a cup at a time, stirring and adding more as it is absorbed. After about 15 minutes, the rice should almost be al dente. Before adding the final portion of liquid, fold in the reserved diced squash, the remaining ground sage and salt and pepper to taste.\n",
      "\n",
      "Divide risotto among 4 to 6 plates, crumble the reserved fried bacon and top each portion with some bacon and slivered sage.\n",
      "\n",
      "NOTES\n",
      "-----\n",
      "\n",
      "NUTRITION INFORMATION\n",
      "---------------------\n",
      "Nutritional analysis per serving (4 servings)\n",
      "  609 calories\n",
      "   17 grams fat\n",
      "   5 grams saturated fat\n",
      "   0 grams trans fat\n",
      "   7 grams monounsaturated fat\n",
      "   3 grams polyunsaturated fat\n",
      "   99 grams carbohydrates\n",
      "   9 grams dietary fiber\n",
      "   9 grams sugars\n",
      "   13 grams protein\n",
      "   28 milligrams cholesterol\n",
      "   298 milligrams sodium\n"
     ]
    }
   ],
   "source": [
    "print(nyt)"
   ]
  }
 ],
 "metadata": {
  "kernelspec": {
   "display_name": "Python 3",
   "language": "python",
   "name": "python3"
  },
  "language_info": {
   "codemirror_mode": {
    "name": "ipython",
    "version": 3
   },
   "file_extension": ".py",
   "mimetype": "text/x-python",
   "name": "python",
   "nbconvert_exporter": "python",
   "pygments_lexer": "ipython3",
   "version": "3.5.1"
  }
 },
 "nbformat": 4,
 "nbformat_minor": 0
}
