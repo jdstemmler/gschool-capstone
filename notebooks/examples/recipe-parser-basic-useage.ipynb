{
 "cells": [
  {
   "cell_type": "markdown",
   "metadata": {},
   "source": [
    "# Basic Useage of a Recipe Parser\n",
    "\n",
    "This notebook demonstrates the use of a recipe parser, in this case the NYTimes Cooking parser. The parser is used to translate the HTML content of the page into things python can understand. Each parser object has the following variables available to it:\n",
    "\n",
    "```python\n",
    "recipe_name      # the name of the recipe\n",
    "recipe_author    # the author of the recipe\n",
    "time_yield       # the time it takes to cook and the yield\n",
    "description      # description or introduction of the recipe\n",
    "ingredients_full # the full ingredient list, including quantities (eg `3 Tablespoons sugar`)\n",
    "ingredients_name # just the name of the ingredients (eg `sugar`)\n",
    "directions       # directions for preparation\n",
    "notes            # any notes or tips to accompany the recipe\n",
    "categories       # categories or tags associated with the recipe\n",
    "servings         # number of servings\n",
    "nutrition        # nutrition information, if available\n",
    "img_url          # url of any images for the recipe\n",
    "```\n",
    "Calling `print()` on the recipe (demonstrated below) produces a nice text representation of the recipe"
   ]
  },
  {
   "cell_type": "code",
   "execution_count": 1,
   "metadata": {
    "collapsed": false
   },
   "outputs": [],
   "source": [
    "# import requests to fetch the html content and the recipe parser\n",
    "import requests\n",
    "from recipetools.parsers import NYTimesCooking"
   ]
  },
  {
   "cell_type": "markdown",
   "metadata": {},
   "source": [
    "The recipe parser requires as input the raw HTML content as produced by requests. It's possible (and quite likely) that some version of urllib could provide the same functionality, but this package uses requests."
   ]
  },
  {
   "cell_type": "code",
   "execution_count": 2,
   "metadata": {
    "collapsed": false
   },
   "outputs": [],
   "source": [
    "html = requests.get('http://cooking.nytimes.com/recipes/1014991-kale-and-quinoa-salad-with-plums-and-herbs')\n",
    "nyt = NYTimesCooking(html.content)"
   ]
  },
  {
   "cell_type": "markdown",
   "metadata": {},
   "source": [
    "We will print out the recipe in nice text form"
   ]
  },
  {
   "cell_type": "code",
   "execution_count": 3,
   "metadata": {
    "collapsed": false
   },
   "outputs": [
    {
     "name": "stdout",
     "output_type": "stream",
     "text": [
      "NAME\n",
      "----\n",
      "Kale and Quinoa Salad With Plums and Herbs\n",
      "\n",
      "AUTHOR\n",
      "------\n",
      "Martha Rose Shulman\n",
      "\n",
      "DESCRIPTION\n",
      "-----------\n",
      "I was so taken with the spicy, sweet and savory mix of flavors in the soba salad with eggplant and pluots  that I made a few weeks ago that I decided to use the same formula for a kale and quinoa salad. The kale is the main ingredient here, with quinoa adding texture and bulk.\n",
      "\n",
      "Featured in: \n",
      "In These Salads, Grains Sometimes Play A Supporting Role.\n",
      "\n",
      "INGREDIENTS\n",
      "-----------\n",
      "½ cup quinoa\n",
      "Salt to taste\n",
      "3 cups stemmed, slivered kale\n",
      "1 serrano or Thai chiles, minced (optional)\n",
      "1 to 2 ripe but firm plums or pluots, cut in thin slices\n",
      "½ cup basil leaves, chopped, torn or cut in slivers\n",
      "2 to 4 tablespoons chopped chives\n",
      "1 tablespoon chopped cilantro (optional)\n",
      "2 tablespoons seasoned rice vinegar\n",
      "Grated zest of 1 lime\n",
      "2 tablespoons fresh lime juice\n",
      "1 garlic clove, minced or puréed\n",
      "3 tablespoons sunflower or grapeseed oil\n",
      "\n",
      "DIRECTIONS\n",
      "----------\n",
      "Rinse the quinoa and cook in a pot of rapidly boiling, generously salted water for 15 minutes. Drain, return to pot, place a towel across the top and replace the lid. Let sit for 15 minutes. Transfer to a sheet pan lined with paper towels and allow to cool completely. \n",
      "\n",
      "To cut the kale, stem, wash and spin dry the leaves, then stack several at a time and cut crosswise into thin slivers. Toss in a large bowl with the quinoa, chile, herbs, and half the plums. \n",
      "\n",
      "Whisk together the vinegar, lime zest and juice, salt to taste, garlic and sunflower or grapeseed oil. Toss with the salad. Garnish with the remaining plums and serve.\n",
      "\n",
      "NOTES\n",
      "-----\n",
      "Advance preparation: The quinoa can be cooked up to 3 days ahead and refrigerated. The salad is best served right away.\n",
      "NUTRITION INFORMATION\n",
      "---------------------\n",
      "Nutritional analysis per serving (4 servings)\n",
      "  216 calories\n",
      "   12 grams fat\n",
      "   1 gram saturated fat\n",
      "   5 grams monounsaturated fat\n",
      "   4 grams polyunsaturated fat\n",
      "   23 grams carbohydrates\n",
      "   4 grams dietary fiber\n",
      "   4 grams sugars\n",
      "   5 grams protein\n",
      "   602 milligrams sodium\n"
     ]
    }
   ],
   "source": [
    "print(nyt)"
   ]
  }
 ],
 "metadata": {
  "kernelspec": {
   "display_name": "Python 3",
   "language": "python",
   "name": "python3"
  },
  "language_info": {
   "codemirror_mode": {
    "name": "ipython",
    "version": 3
   },
   "file_extension": ".py",
   "mimetype": "text/x-python",
   "name": "python",
   "nbconvert_exporter": "python",
   "pygments_lexer": "ipython3",
   "version": "3.5.1"
  }
 },
 "nbformat": 4,
 "nbformat_minor": 0
}
