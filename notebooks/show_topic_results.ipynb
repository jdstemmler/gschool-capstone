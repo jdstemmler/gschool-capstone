{
 "cells": [
  {
   "cell_type": "code",
   "execution_count": 1,
   "metadata": {
    "collapsed": true
   },
   "outputs": [],
   "source": [
    "import os\n",
    "import pickle\n",
    "import numpy as np\n",
    "from prettytable import PrettyTable\n",
    "from collections import Counter"
   ]
  },
  {
   "cell_type": "code",
   "execution_count": 2,
   "metadata": {
    "collapsed": true
   },
   "outputs": [],
   "source": [
    "def print_topics(H, word_list, n_words=15, n_topics='all', max_width=80):\n",
    "    pt = PrettyTable(['Topic', 'Words'])\n",
    "    pt.valign['Topic'] = 'm'\n",
    "    pt.align['Words'] = 'l'\n",
    "    pt.max_width=max_width\n",
    "    if n_topics == 'all':\n",
    "        nt = len(H)\n",
    "    else:\n",
    "        nt = n_topics\n",
    "    \n",
    "    C = Counter()\n",
    "    raw_words = []\n",
    "    for ix in range(nt):\n",
    "        w = ', '.join(np.array(word_list)[np.argsort(H[ix])[-n_words:][::-1]])\n",
    "        raw_words.append(w)\n",
    "        pt.add_row([ix, w])\n",
    "        pt.add_row(['', ''])\n",
    "        C.update(w.split(', '))\n",
    "    print(pt)\n",
    "    \n",
    "    return C, raw_words, pt"
   ]
  },
  {
   "cell_type": "code",
   "execution_count": 3,
   "metadata": {
    "collapsed": true
   },
   "outputs": [],
   "source": [
    "pickle_dir = '../data/pickles/'\n",
    "feat_pickle = os.path.join(pickle_dir, 'features.pkl')\n",
    "topic_pickle = os.path.join(pickle_dir, 'topics.pkl')"
   ]
  },
  {
   "cell_type": "code",
   "execution_count": 4,
   "metadata": {
    "collapsed": false
   },
   "outputs": [],
   "source": [
    "with open(feat_pickle, 'rb') as f:\n",
    "    features = pickle.load(f)"
   ]
  },
  {
   "cell_type": "code",
   "execution_count": 5,
   "metadata": {
    "collapsed": false
   },
   "outputs": [],
   "source": [
    "with open(topic_pickle, 'rb') as f:\n",
    "    topics = pickle.load(f)"
   ]
  },
  {
   "cell_type": "code",
   "execution_count": 6,
   "metadata": {
    "collapsed": false,
    "scrolled": false
   },
   "outputs": [
    {
     "name": "stdout",
     "output_type": "stream",
     "text": [
      "+-------+----------------------------------------------------------------------------------+\n",
      "| Topic | Words                                                                            |\n",
      "+-------+----------------------------------------------------------------------------------+\n",
      "|       | egg whites, baking powder, baking sheet, flour baking, preheat 350, beat egg,    |\n",
      "|   0   | flour baking powder, baking soda, egg yolks, flour mixture, electric mixer,      |\n",
      "|       | comes clean, sift flour, cup sugar, inserted center                              |\n",
      "|       |                                                                                  |\n",
      "|       | 100 percent, percent power, 100 percent power, remove uncover, release steam,    |\n",
      "|   1   | prick plastic, plastic release, plastic release steam, microwave plastic,        |\n",
      "|       | microwave plastic wrap, prick plastic release, release steam remove, steam       |\n",
      "|       | remove, steam remove uncover, tightly microwave                                  |\n",
      "|       |                                                                                  |\n",
      "|       | doesn burn, run underneath, eggs run underneath, eggs run, lifting edges, shake  |\n",
      "|   2   | gently, hand lifting edges, hand lifting, make sure, shake gently tilting,       |\n",
      "|       | slightly hand lifting, slightly hand, tilting slightly hand, gently tilting,     |\n",
      "|       | tilting slightly                                                                 |\n",
      "|       |                                                                                  |\n",
      "|       | lemon juice, food processor, season taste, taste adjust, bay leaf, baking dish,  |\n",
      "|   3   | room temperature, adjust seasoning, 30 seconds, paper towels, taste adjust       |\n",
      "|       | seasoning, bread crumbs, onion garlic, tablespoons butter, lightly browned       |\n",
      "|       |                                                                                  |\n",
      "|       | ice strain, ice strain chilled, chilled coupe, strain chilled, strain chilled    |\n",
      "|   4   | coupe, coupe glass, chilled coupe glass, shake ice, shake ice strain, liquid     |\n",
      "|       | ice, liquid ice strain, glass garnish, coupe glass garnish, shake liquid ice,    |\n",
      "|       | shake liquid                                                                     |\n",
      "|       |                                                                                  |\n",
      "|       | blender blend, blend speed, blender blend speed, blender blend smooth, blend     |\n",
      "|   5   | speed minute, blend smooth, speed minute, blend speed smooth, speed smooth,      |\n",
      "|       | smooth right, smooth right away, right away, jar blender blend, speed smooth     |\n",
      "|       | right, minute smooth                                                             |\n",
      "|       |                                                                                  |\n",
      "|       | wings cooked, gas grill, charcoal gas, charcoal gas grill, hot rack, hot rack    |\n",
      "|   6   | inches, rack inches, moderately hot rack, moderately hot, grill moderately, gas  |\n",
      "|       | grill moderately, grill moderately hot, grill cooler indirect, cooler indirect,  |\n",
      "|       | cooler indirect cooking                                                          |\n",
      "|       |                                                                                  |\n",
      "|       | cocktail glass, ice shake, cocktail shaker, shaker ice, shake strain, chilled    |\n",
      "|   7   | cocktail, chilled cocktail glass, strain chilled, strain chilled cocktail,       |\n",
      "|       | shaker ice shake, cocktail shaker ice, glass garnish, glass ice, ice shake       |\n",
      "|       | strain, shake vigorously                                                         |\n",
      "|       |                                                                                  |\n",
      "+-------+----------------------------------------------------------------------------------+\n"
     ]
    }
   ],
   "source": [
    "word_counts, strings, pt = print_topics(topics['H'], features['directions_vocab'])"
   ]
  },
  {
   "cell_type": "code",
   "execution_count": 7,
   "metadata": {
    "collapsed": false
   },
   "outputs": [],
   "source": [
    "with open('topic_results.txt', 'w') as f:\n",
    "    f.writelines(pt.get_string())"
   ]
  },
  {
   "cell_type": "code",
   "execution_count": 8,
   "metadata": {
    "collapsed": false
   },
   "outputs": [
    {
     "data": {
      "text/plain": [
       "['egg whites, baking powder, baking sheet, flour baking, preheat 350, beat egg, flour baking powder, baking soda, egg yolks, flour mixture, electric mixer, comes clean, sift flour, cup sugar, inserted center',\n",
       " '100 percent, percent power, 100 percent power, remove uncover, release steam, prick plastic, plastic release, plastic release steam, microwave plastic, microwave plastic wrap, prick plastic release, release steam remove, steam remove, steam remove uncover, tightly microwave',\n",
       " 'doesn burn, run underneath, eggs run underneath, eggs run, lifting edges, shake gently, hand lifting edges, hand lifting, make sure, shake gently tilting, slightly hand lifting, slightly hand, tilting slightly hand, gently tilting, tilting slightly',\n",
       " 'lemon juice, food processor, season taste, taste adjust, bay leaf, baking dish, room temperature, adjust seasoning, 30 seconds, paper towels, taste adjust seasoning, bread crumbs, onion garlic, tablespoons butter, lightly browned',\n",
       " 'ice strain, ice strain chilled, chilled coupe, strain chilled, strain chilled coupe, coupe glass, chilled coupe glass, shake ice, shake ice strain, liquid ice, liquid ice strain, glass garnish, coupe glass garnish, shake liquid ice, shake liquid',\n",
       " 'blender blend, blend speed, blender blend speed, blender blend smooth, blend speed minute, blend smooth, speed minute, blend speed smooth, speed smooth, smooth right, smooth right away, right away, jar blender blend, speed smooth right, minute smooth',\n",
       " 'wings cooked, gas grill, charcoal gas, charcoal gas grill, hot rack, hot rack inches, rack inches, moderately hot rack, moderately hot, grill moderately, gas grill moderately, grill moderately hot, grill cooler indirect, cooler indirect, cooler indirect cooking',\n",
       " 'cocktail glass, ice shake, cocktail shaker, shaker ice, shake strain, chilled cocktail, chilled cocktail glass, strain chilled, strain chilled cocktail, shaker ice shake, cocktail shaker ice, glass garnish, glass ice, ice shake strain, shake vigorously']"
      ]
     },
     "execution_count": 8,
     "metadata": {},
     "output_type": "execute_result"
    }
   ],
   "source": [
    "strings"
   ]
  },
  {
   "cell_type": "code",
   "execution_count": 9,
   "metadata": {
    "collapsed": false
   },
   "outputs": [
    {
     "data": {
      "text/plain": [
       "[('glass garnish', 2),\n",
       " ('strain chilled', 2),\n",
       " ('beat egg', 1),\n",
       " ('shake vigorously', 1),\n",
       " ('slightly hand lifting', 1),\n",
       " ('prick plastic', 1),\n",
       " ('blend speed minute', 1),\n",
       " ('moderately hot', 1),\n",
       " ('chilled cocktail', 1),\n",
       " ('shake ice strain', 1)]"
      ]
     },
     "execution_count": 9,
     "metadata": {},
     "output_type": "execute_result"
    }
   ],
   "source": [
    "word_counts.most_common(10)"
   ]
  }
 ],
 "metadata": {
  "kernelspec": {
   "display_name": "Python 3",
   "language": "python",
   "name": "python3"
  },
  "language_info": {
   "codemirror_mode": {
    "name": "ipython",
    "version": 3
   },
   "file_extension": ".py",
   "mimetype": "text/x-python",
   "name": "python",
   "nbconvert_exporter": "python",
   "pygments_lexer": "ipython3",
   "version": "3.5.1"
  }
 },
 "nbformat": 4,
 "nbformat_minor": 0
}
