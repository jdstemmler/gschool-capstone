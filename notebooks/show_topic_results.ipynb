{
 "cells": [
  {
   "cell_type": "code",
   "execution_count": 35,
   "metadata": {
    "collapsed": true
   },
   "outputs": [],
   "source": [
    "import os\n",
    "import pickle\n",
    "import numpy as np\n",
    "from prettytable import PrettyTable\n",
    "from collections import Counter"
   ]
  },
  {
   "cell_type": "code",
   "execution_count": 45,
   "metadata": {
    "collapsed": true
   },
   "outputs": [],
   "source": [
    "def print_topics(H, word_list, n_words=15, n_topics='all', max_width=80):\n",
    "    pt = PrettyTable(['Topic', 'Words'])\n",
    "    pt.valign['Topic'] = 'm'\n",
    "    pt.align['Words'] = 'l'\n",
    "    pt.max_width=max_width\n",
    "    if n_topics == 'all':\n",
    "        nt = len(H)\n",
    "    else:\n",
    "        nt = n_topics\n",
    "    \n",
    "    C = Counter()\n",
    "    raw_words = []\n",
    "    for ix in range(nt):\n",
    "        w = ', '.join(np.array(word_list)[np.argsort(H[ix])[-n_words:][::-1]])\n",
    "        raw_words.append(w)\n",
    "        pt.add_row([ix, w])\n",
    "        pt.add_row(['', ''])\n",
    "        C.update(w.split(', '))\n",
    "    print(pt)\n",
    "    \n",
    "    return C, raw_words"
   ]
  },
  {
   "cell_type": "code",
   "execution_count": 37,
   "metadata": {
    "collapsed": true
   },
   "outputs": [],
   "source": [
    "pickle_dir = '../data/pickles/'\n",
    "feat_pickle = os.path.join(pickle_dir, 'features.pkl')\n",
    "topic_pickle = os.path.join(pickle_dir, 'topics.pkl')"
   ]
  },
  {
   "cell_type": "code",
   "execution_count": 38,
   "metadata": {
    "collapsed": false
   },
   "outputs": [],
   "source": [
    "with open(feat_pickle, 'rb') as f:\n",
    "    features = pickle.load(f)"
   ]
  },
  {
   "cell_type": "code",
   "execution_count": 39,
   "metadata": {
    "collapsed": false
   },
   "outputs": [],
   "source": [
    "with open(topic_pickle, 'rb') as f:\n",
    "    topics = pickle.load(f)"
   ]
  },
  {
   "cell_type": "code",
   "execution_count": 46,
   "metadata": {
    "collapsed": false,
    "scrolled": false
   },
   "outputs": [
    {
     "name": "stdout",
     "output_type": "stream",
     "text": [
      "+-------+----------------------------------------------------------------------------------+\n",
      "| Topic | Words                                                                            |\n",
      "+-------+----------------------------------------------------------------------------------+\n",
      "|       | season taste, paper towels, room temperature, slotted spoon, golden brown,       |\n",
      "|   0   | cooking liquid, dry paper, dry paper towels, lightly browned, melt butter, bread |\n",
      "|       | crumbs, lime juice, pat dry, al dente, serving dish                              |\n",
      "|       |                                                                                  |\n",
      "|       | 100 percent, percent power, 100 percent power, remove uncover, release steam,    |\n",
      "|   1   | prick plastic, plastic release, plastic release steam, microwave plastic,        |\n",
      "|       | microwave plastic wrap, prick plastic release, release steam remove, steam       |\n",
      "|       | remove, steam remove uncover, tightly microwave                                  |\n",
      "|       |                                                                                  |\n",
      "|       | egg whites, beat egg, egg yolks, beat egg whites, cup sugar, soft peaks,         |\n",
      "|   2   | chocolate mixture, whites stiff, beat egg yolks, egg whites stiff, peaks form,   |\n",
      "|       | whisk egg, yolk mixture, double boiler, whipped cream                            |\n",
      "|       |                                                                                  |\n",
      "|       | ice strain, ice strain chilled, chilled coupe, strain chilled coupe, strain      |\n",
      "|   3   | chilled, coupe glass, chilled coupe glass, shake ice, shake ice strain, glass    |\n",
      "|       | garnish, liquid ice, liquid ice strain, coupe glass garnish, shake liquid ice,   |\n",
      "|       | shake liquid                                                                     |\n",
      "|       |                                                                                  |\n",
      "|       | doesn burn, run underneath, eggs run underneath, eggs run, lifting edges, shake  |\n",
      "|   4   | gently, hand lifting edges, hand lifting, tilting slightly, shake gently         |\n",
      "|       | tilting, slightly hand lifting, slightly hand, gently tilting, gently tilting    |\n",
      "|       | slightly, tilting slightly hand                                                  |\n",
      "|       |                                                                                  |\n",
      "|       | cocktail glass, chilled cocktail, chilled cocktail glass, ice shake, strain      |\n",
      "|   5   | chilled, shaker ice, strain chilled cocktail, cocktail shaker, shake strain,     |\n",
      "|       | shaker ice shake, cocktail shaker ice, glass garnish, ice shake strain, shake    |\n",
      "|       | strain chilled, shake vigorously                                                 |\n",
      "|       |                                                                                  |\n",
      "|       | fry minute, garlic ginger, flat bottomed wok, bottomed wok, 14 inch flat, inch   |\n",
      "|   6   | flat bottomed, inch flat, flat bottomed, drop evaporates, fry 10, fry 10         |\n",
      "|       | seconds, 14 inch, drop evaporates second, evaporates second, rice wine           |\n",
      "|       |                                                                                  |\n",
      "|       | taste adjust, adjust seasoning, taste adjust seasoning, adjust seasonings, taste |\n",
      "|   7   | adjust seasonings, 30 seconds, bouquet garni, fragrant 30, fragrant 30 seconds,  |\n",
      "|       | onion tender, garlic fragrant, tender garlic, 30 seconds minute, seconds minute, |\n",
      "|       | tomatoes cooked                                                                  |\n",
      "|       |                                                                                  |\n",
      "|       | baking powder, flour baking, baking soda, flour baking powder, comes clean, sift |\n",
      "|   8   | flour, inserted center, flour mixture, preheat 350, sift flour baking, powder    |\n",
      "|       | baking, center comes, powder baking soda, baking powder baking, center comes     |\n",
      "|       | clean                                                                            |\n",
      "|       |                                                                                  |\n",
      "|       | ladleful stock, stock rice, stock just, continue fashion, stock continue,        |\n",
      "|   9   | simmering stock, just rice, adding stock, absorbed ladleful, absorbed ladleful   |\n",
      "|       | stock, ladleful stock continue, stock continue fashion, rice dry, stock just     |\n",
      "|       | rice, stock rice dry                                                             |\n",
      "|       |                                                                                  |\n",
      "|       | baking sheet, lightly floured, floured surface, plastic wrap, lightly floured    |\n",
      "|   10  | surface, roll dough, sheet bake, work surface, baking sheet bake, dough lightly, |\n",
      "|       | baking sheets, parchment paper, turn dough, let rise, dough lightly floured      |\n",
      "|       |                                                                                  |\n",
      "|       | bay leaf, remove bay, remove bay leaf, tablespoon butter, bay leaf thyme, leaf   |\n",
      "|   11  | thyme, onion garlic, thyme bay leaf, thyme bay, butter onion, wilted rice,       |\n",
      "|       | remaining tablespoon butter, inch cubes, remaining tablespoon, thyme sprigs      |\n",
      "|       |                                                                                  |\n",
      "|       | baking dish, preheat 350, bread crumbs, dish bake, quart baking, tablespoons     |\n",
      "|   12  | butter, quart baking dish, baking dish bake, bake 30, foil bake, preheat 375,    |\n",
      "|       | remove allow, shallow baking, shallow baking dish, bake 20                       |\n",
      "|       |                                                                                  |\n",
      "|       | filled ice, glass filled, glass ice, glass filled ice, rocks glass, ice garnish, |\n",
      "|   13  | highball glass, garnish orange, orange twist, filled ice garnish, garnish orange |\n",
      "|       | twist, rocks glass filled, strain rocks, strain rocks glass, liquid ice          |\n",
      "|       |                                                                                  |\n",
      "|       | lemon juice, whisk lemon, whisk lemon juice, juice vinegar, lemon juice vinegar, |\n",
      "|   14  | lemon juice taste, salad toss, juice taste, juice garlic, toss salad, lemon      |\n",
      "|       | juice garlic, remaining lemon, sugar lemon, toss dressing, remaining lemon juice |\n",
      "|       |                                                                                  |\n",
      "|       | blender blend, blend speed, blender blend speed, blend speed minute, blender     |\n",
      "|   15  | blend smooth, speed minute, blend smooth, blend speed smooth, speed smooth,      |\n",
      "|       | smooth right, smooth right away, right away, jar blender blend, speed smooth     |\n",
      "|       | right, minute smooth                                                             |\n",
      "|       |                                                                                  |\n",
      "|       | wings cooked, gas grill, charcoal gas, charcoal gas grill, hot rack inches, hot  |\n",
      "|   16  | rack, rack inches, moderately hot rack, grill moderately, moderately hot, gas    |\n",
      "|       | grill moderately, grill moderately hot, cooler indirect cooking, cooler          |\n",
      "|       | indirect, grill cooler                                                           |\n",
      "|       |                                                                                  |\n",
      "|       | food processor, process smooth, processor process, food processor process,       |\n",
      "|   17  | blender food, blender food processor, steel blade, processor fitted, food        |\n",
      "|       | processor fitted, fitted steel, processor fitted steel, processor blender, food  |\n",
      "|       | processor blender, fitted steel blade, container food processor                  |\n",
      "|       |                                                                                  |\n",
      "|       | ice cream, fine mesh, fine mesh sieve, mesh sieve, according manufacturer,       |\n",
      "|   18  | strain fine mesh, strain fine, manufacturer instructions, ice cream machine,     |\n",
      "|       | cream machine, according manufacturer instructions, whisking constantly, whisk   |\n",
      "|       | yolks, slowly whisk hot, whisking constantly slowly                              |\n",
      "|       |                                                                                  |\n",
      "|       | wash trim, wash dry, chop onion, mince garlic, saute onion, trim seed, onion     |\n",
      "|   19  | begins, wash trim seed, wash dry chop, dry chop, bite size, hot saute, trim      |\n",
      "|       | slice, continue cooking, begins soften                                           |\n",
      "|       |                                                                                  |\n",
      "+-------+----------------------------------------------------------------------------------+\n"
     ]
    }
   ],
   "source": [
    "word_counts, strings = print_topics(topics['H'], features['directions_vocab'])"
   ]
  },
  {
   "cell_type": "code",
   "execution_count": 47,
   "metadata": {
    "collapsed": false
   },
   "outputs": [
    {
     "data": {
      "text/plain": [
       "['season taste, paper towels, room temperature, slotted spoon, golden brown, cooking liquid, dry paper, dry paper towels, lightly browned, melt butter, bread crumbs, lime juice, pat dry, al dente, serving dish',\n",
       " '100 percent, percent power, 100 percent power, remove uncover, release steam, prick plastic, plastic release, plastic release steam, microwave plastic, microwave plastic wrap, prick plastic release, release steam remove, steam remove, steam remove uncover, tightly microwave',\n",
       " 'egg whites, beat egg, egg yolks, beat egg whites, cup sugar, soft peaks, chocolate mixture, whites stiff, beat egg yolks, egg whites stiff, peaks form, whisk egg, yolk mixture, double boiler, whipped cream',\n",
       " 'ice strain, ice strain chilled, chilled coupe, strain chilled coupe, strain chilled, coupe glass, chilled coupe glass, shake ice, shake ice strain, glass garnish, liquid ice, liquid ice strain, coupe glass garnish, shake liquid ice, shake liquid',\n",
       " 'doesn burn, run underneath, eggs run underneath, eggs run, lifting edges, shake gently, hand lifting edges, hand lifting, tilting slightly, shake gently tilting, slightly hand lifting, slightly hand, gently tilting, gently tilting slightly, tilting slightly hand',\n",
       " 'cocktail glass, chilled cocktail, chilled cocktail glass, ice shake, strain chilled, shaker ice, strain chilled cocktail, cocktail shaker, shake strain, shaker ice shake, cocktail shaker ice, glass garnish, ice shake strain, shake strain chilled, shake vigorously',\n",
       " 'fry minute, garlic ginger, flat bottomed wok, bottomed wok, 14 inch flat, inch flat bottomed, inch flat, flat bottomed, drop evaporates, fry 10, fry 10 seconds, 14 inch, drop evaporates second, evaporates second, rice wine',\n",
       " 'taste adjust, adjust seasoning, taste adjust seasoning, adjust seasonings, taste adjust seasonings, 30 seconds, bouquet garni, fragrant 30, fragrant 30 seconds, onion tender, garlic fragrant, tender garlic, 30 seconds minute, seconds minute, tomatoes cooked',\n",
       " 'baking powder, flour baking, baking soda, flour baking powder, comes clean, sift flour, inserted center, flour mixture, preheat 350, sift flour baking, powder baking, center comes, powder baking soda, baking powder baking, center comes clean',\n",
       " 'ladleful stock, stock rice, stock just, continue fashion, stock continue, simmering stock, just rice, adding stock, absorbed ladleful, absorbed ladleful stock, ladleful stock continue, stock continue fashion, rice dry, stock just rice, stock rice dry',\n",
       " 'baking sheet, lightly floured, floured surface, plastic wrap, lightly floured surface, roll dough, sheet bake, work surface, baking sheet bake, dough lightly, baking sheets, parchment paper, turn dough, let rise, dough lightly floured',\n",
       " 'bay leaf, remove bay, remove bay leaf, tablespoon butter, bay leaf thyme, leaf thyme, onion garlic, thyme bay leaf, thyme bay, butter onion, wilted rice, remaining tablespoon butter, inch cubes, remaining tablespoon, thyme sprigs',\n",
       " 'baking dish, preheat 350, bread crumbs, dish bake, quart baking, tablespoons butter, quart baking dish, baking dish bake, bake 30, foil bake, preheat 375, remove allow, shallow baking, shallow baking dish, bake 20',\n",
       " 'filled ice, glass filled, glass ice, glass filled ice, rocks glass, ice garnish, highball glass, garnish orange, orange twist, filled ice garnish, garnish orange twist, rocks glass filled, strain rocks, strain rocks glass, liquid ice',\n",
       " 'lemon juice, whisk lemon, whisk lemon juice, juice vinegar, lemon juice vinegar, lemon juice taste, salad toss, juice taste, juice garlic, toss salad, lemon juice garlic, remaining lemon, sugar lemon, toss dressing, remaining lemon juice',\n",
       " 'blender blend, blend speed, blender blend speed, blend speed minute, blender blend smooth, speed minute, blend smooth, blend speed smooth, speed smooth, smooth right, smooth right away, right away, jar blender blend, speed smooth right, minute smooth',\n",
       " 'wings cooked, gas grill, charcoal gas, charcoal gas grill, hot rack inches, hot rack, rack inches, moderately hot rack, grill moderately, moderately hot, gas grill moderately, grill moderately hot, cooler indirect cooking, cooler indirect, grill cooler',\n",
       " 'food processor, process smooth, processor process, food processor process, blender food, blender food processor, steel blade, processor fitted, food processor fitted, fitted steel, processor fitted steel, processor blender, food processor blender, fitted steel blade, container food processor',\n",
       " 'ice cream, fine mesh, fine mesh sieve, mesh sieve, according manufacturer, strain fine mesh, strain fine, manufacturer instructions, ice cream machine, cream machine, according manufacturer instructions, whisking constantly, whisk yolks, slowly whisk hot, whisking constantly slowly',\n",
       " 'wash trim, wash dry, chop onion, mince garlic, saute onion, trim seed, onion begins, wash trim seed, wash dry chop, dry chop, bite size, hot saute, trim slice, continue cooking, begins soften']"
      ]
     },
     "execution_count": 47,
     "metadata": {},
     "output_type": "execute_result"
    }
   ],
   "source": [
    "strings"
   ]
  },
  {
   "cell_type": "code",
   "execution_count": 41,
   "metadata": {
    "collapsed": false
   },
   "outputs": [
    {
     "data": {
      "text/plain": [
       "[('bread crumbs', 2),\n",
       " ('preheat 350', 2),\n",
       " ('liquid ice', 2),\n",
       " ('strain chilled', 2),\n",
       " ('glass garnish', 2),\n",
       " ('shake strain chilled', 1),\n",
       " ('plastic wrap', 1),\n",
       " ('shake liquid', 1),\n",
       " ('cooking liquid', 1),\n",
       " ('lightly browned', 1)]"
      ]
     },
     "execution_count": 41,
     "metadata": {},
     "output_type": "execute_result"
    }
   ],
   "source": [
    "word_counts.most_common(10)"
   ]
  }
 ],
 "metadata": {
  "kernelspec": {
   "display_name": "Python 3",
   "language": "python",
   "name": "python3"
  },
  "language_info": {
   "codemirror_mode": {
    "name": "ipython",
    "version": 3
   },
   "file_extension": ".py",
   "mimetype": "text/x-python",
   "name": "python",
   "nbconvert_exporter": "python",
   "pygments_lexer": "ipython3",
   "version": "3.5.1"
  }
 },
 "nbformat": 4,
 "nbformat_minor": 0
}
