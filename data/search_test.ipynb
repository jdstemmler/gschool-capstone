{
 "cells": [
  {
   "cell_type": "code",
   "execution_count": 121,
   "metadata": {
    "collapsed": false
   },
   "outputs": [],
   "source": [
    "from pymongo import MongoClient\n",
    "import numpy as np\n",
    "from sklearn.feature_extraction.text import CountVectorizer\n",
    "import pandas as pd"
   ]
  },
  {
   "cell_type": "code",
   "execution_count": 95,
   "metadata": {
    "collapsed": true
   },
   "outputs": [],
   "source": [
    "client = MongoClient()\n",
    "db = client['capstone-project']"
   ]
  },
  {
   "cell_type": "code",
   "execution_count": 96,
   "metadata": {
    "collapsed": false
   },
   "outputs": [
    {
     "data": {
      "text/plain": [
       "['system.indexes',\n",
       " 'nyt-recipe-metadata',\n",
       " 'nyt-recipe-html',\n",
       " 'nyt-recipe-extracted']"
      ]
     },
     "execution_count": 96,
     "metadata": {},
     "output_type": "execute_result"
    }
   ],
   "source": [
    "db.collection_names()"
   ]
  },
  {
   "cell_type": "code",
   "execution_count": 97,
   "metadata": {
    "collapsed": true
   },
   "outputs": [],
   "source": [
    "tab = db['nyt-recipe-extracted']"
   ]
  },
  {
   "cell_type": "code",
   "execution_count": 98,
   "metadata": {
    "collapsed": false
   },
   "outputs": [
    {
     "data": {
      "text/plain": [
       "dict_keys(['_id', 'categories', 'ingredients', 'ingredient_names', 'directions', 'web_url', 'description', 'author', 'name'])"
      ]
     },
     "execution_count": 98,
     "metadata": {},
     "output_type": "execute_result"
    }
   ],
   "source": [
    "tab.find_one().keys()"
   ]
  },
  {
   "cell_type": "code",
   "execution_count": 99,
   "metadata": {
    "collapsed": false
   },
   "outputs": [],
   "source": [
    "params = {'_id': 0, 'ingredient_names': 1, 'name': 1, 'web_url': 1}\n",
    "\n",
    "result = tab.find({}, params)\n",
    "\n",
    "ingredients = []\n",
    "names = []\n",
    "urls = []\n",
    "\n",
    "for recipe in result:\n",
    "    ingredients.append(';'.join(recipe['ingredient_names']))\n",
    "    names.append(recipe['name'])\n",
    "    urls.append(recipe['web_url'])"
   ]
  },
  {
   "cell_type": "code",
   "execution_count": 131,
   "metadata": {
    "collapsed": false
   },
   "outputs": [],
   "source": [
    "result = tab.find({}, params)\n",
    "df = pd.DataFrame(columns=['ingredients', 'names', 'urls'])\n",
    "\n",
    "for ix, recipe in enumerate(result):\n",
    "\n",
    "    df = pd.concat([df, pd.DataFrame({'ingredients': ';'.join(recipe['ingredient_names']),\n",
    "                                     'names': recipe['name'],\n",
    "                                     'urls': recipe['web_url']}, index=[ix,])]\n",
    "                  )"
   ]
  },
  {
   "cell_type": "code",
   "execution_count": 132,
   "metadata": {
    "collapsed": false
   },
   "outputs": [
    {
     "data": {
      "text/html": [
       "<div>\n",
       "<table border=\"1\" class=\"dataframe\">\n",
       "  <thead>\n",
       "    <tr style=\"text-align: right;\">\n",
       "      <th></th>\n",
       "      <th>ingredients</th>\n",
       "      <th>names</th>\n",
       "      <th>urls</th>\n",
       "    </tr>\n",
       "  </thead>\n",
       "  <tbody>\n",
       "    <tr>\n",
       "      <th>0</th>\n",
       "      <td>all-purpose flour;kosher salt;cold unsalted bu...</td>\n",
       "      <td>Cheese Wafers or Straws</td>\n",
       "      <td>http://cooking.nytimes.com/recipes/1016355-che...</td>\n",
       "    </tr>\n",
       "    <tr>\n",
       "      <th>1</th>\n",
       "      <td>all-purpose flour;granulated sugar;dark brown ...</td>\n",
       "      <td>Blackberry Crumb Muffins</td>\n",
       "      <td>http://cooking.nytimes.com/recipes/1014979-bla...</td>\n",
       "    </tr>\n",
       "    <tr>\n",
       "      <th>2</th>\n",
       "      <td>blueberries;sugar;lemon juice;cinnamon</td>\n",
       "      <td>Blueberry Jam With Lime</td>\n",
       "      <td>http://cooking.nytimes.com/recipes/1014975-blu...</td>\n",
       "    </tr>\n",
       "    <tr>\n",
       "      <th>3</th>\n",
       "      <td>eggplants;olive oil;Salt and pepper;garlic;cay...</td>\n",
       "      <td>Smoky Eggplant Soup</td>\n",
       "      <td>http://cooking.nytimes.com/recipes/1014970-smo...</td>\n",
       "    </tr>\n",
       "    <tr>\n",
       "      <th>4</th>\n",
       "      <td>freshly squeezed orange juice;New Mexico chile...</td>\n",
       "      <td>Grilled Chile Flank Steak With Salsa</td>\n",
       "      <td>http://cooking.nytimes.com/recipes/1014966-gri...</td>\n",
       "    </tr>\n",
       "  </tbody>\n",
       "</table>\n",
       "</div>"
      ],
      "text/plain": [
       "                                         ingredients  \\\n",
       "0  all-purpose flour;kosher salt;cold unsalted bu...   \n",
       "1  all-purpose flour;granulated sugar;dark brown ...   \n",
       "2             blueberries;sugar;lemon juice;cinnamon   \n",
       "3  eggplants;olive oil;Salt and pepper;garlic;cay...   \n",
       "4  freshly squeezed orange juice;New Mexico chile...   \n",
       "\n",
       "                                  names  \\\n",
       "0               Cheese Wafers or Straws   \n",
       "1              Blackberry Crumb Muffins   \n",
       "2               Blueberry Jam With Lime   \n",
       "3                   Smoky Eggplant Soup   \n",
       "4  Grilled Chile Flank Steak With Salsa   \n",
       "\n",
       "                                                urls  \n",
       "0  http://cooking.nytimes.com/recipes/1016355-che...  \n",
       "1  http://cooking.nytimes.com/recipes/1014979-bla...  \n",
       "2  http://cooking.nytimes.com/recipes/1014975-blu...  \n",
       "3  http://cooking.nytimes.com/recipes/1014970-smo...  \n",
       "4  http://cooking.nytimes.com/recipes/1014966-gri...  "
      ]
     },
     "execution_count": 132,
     "metadata": {},
     "output_type": "execute_result"
    }
   ],
   "source": [
    "df.head()"
   ]
  },
  {
   "cell_type": "code",
   "execution_count": 100,
   "metadata": {
    "collapsed": false
   },
   "outputs": [
    {
     "data": {
      "text/plain": [
       "'all-purpose flour;granulated sugar;dark brown sugar;cinnamon;ground allspice;fine sea salt;unsalted butter;unsalted butter;granulated sugar;eggs;vanilla extract;lemon;all-purpose flour;baking powder;baking soda;fine sea salt;fresh blackberries'"
      ]
     },
     "execution_count": 100,
     "metadata": {},
     "output_type": "execute_result"
    }
   ],
   "source": [
    "ingredients[1]"
   ]
  },
  {
   "cell_type": "code",
   "execution_count": 101,
   "metadata": {
    "collapsed": false
   },
   "outputs": [
    {
     "data": {
      "text/plain": [
       "'Blackberry Crumb Muffins'"
      ]
     },
     "execution_count": 101,
     "metadata": {},
     "output_type": "execute_result"
    }
   ],
   "source": [
    "names[1]"
   ]
  },
  {
   "cell_type": "code",
   "execution_count": 102,
   "metadata": {
    "collapsed": false
   },
   "outputs": [
    {
     "data": {
      "text/plain": [
       "'http://cooking.nytimes.com/recipes/1014979-blackberry-crumb-muffins'"
      ]
     },
     "execution_count": 102,
     "metadata": {},
     "output_type": "execute_result"
    }
   ],
   "source": [
    "urls[1]"
   ]
  },
  {
   "cell_type": "code",
   "execution_count": 103,
   "metadata": {
    "collapsed": false
   },
   "outputs": [],
   "source": [
    "def tokenizer(x):\n",
    "    return x.lower().split(';')\n",
    "\n",
    "cv = CountVectorizer(analyzer='word', tokenizer=tokenizer)\n",
    "wc = cv.fit_transform(ingredients)"
   ]
  },
  {
   "cell_type": "code",
   "execution_count": 114,
   "metadata": {
    "collapsed": false
   },
   "outputs": [
    {
     "data": {
      "text/plain": [
       "True"
      ]
     },
     "execution_count": 114,
     "metadata": {},
     "output_type": "execute_result"
    }
   ],
   "source": [
    "search_term = 'kale'\n",
    "search_term in cv.vocabulary_"
   ]
  },
  {
   "cell_type": "code",
   "execution_count": 115,
   "metadata": {
    "collapsed": false
   },
   "outputs": [
    {
     "name": "stdout",
     "output_type": "stream",
     "text": [
      "6468\n"
     ]
    }
   ],
   "source": [
    "ix = cv.vocabulary_[search_term]\n",
    "print(ix)"
   ]
  },
  {
   "cell_type": "code",
   "execution_count": 116,
   "metadata": {
    "collapsed": false
   },
   "outputs": [],
   "source": [
    "match = wc[:, ix].nonzero()[0]"
   ]
  },
  {
   "cell_type": "code",
   "execution_count": 117,
   "metadata": {
    "collapsed": false
   },
   "outputs": [],
   "source": [
    "name_url = zip(np.array(names)[match], np.array(urls)[match])"
   ]
  },
  {
   "cell_type": "code",
   "execution_count": 118,
   "metadata": {
    "collapsed": false
   },
   "outputs": [
    {
     "name": "stdout",
     "output_type": "stream",
     "text": [
      "Ribollita: http://cooking.nytimes.com/recipes/1016052-ribollita\n",
      "Kale and Red Cabbage Slaw With Walnuts: http://cooking.nytimes.com/recipes/1015779-kale-and-red-cabbage-slaw-with-walnuts\n",
      "Mixed Grains Risotto With Kale, Walnuts and Black Quinoa: http://cooking.nytimes.com/recipes/1015776-mixed-grains-risotto-with-kale-walnuts-and-black-quinoa\n",
      "Leek, Kale and Potato Latkes: http://cooking.nytimes.com/recipes/1015736-leek-kale-and-potato-latkes\n",
      "Grilled Scallops With Kale and Olives: http://cooking.nytimes.com/recipes/1014824-grilled-scallops-with-kale-and-olives\n",
      "Spanish Tortilla with Mushrooms and Kale: http://cooking.nytimes.com/recipes/1017357-spanish-tortilla-with-mushrooms-and-kale\n",
      "Blood Orange Smoothie With Grapes and Red Quinoa: http://cooking.nytimes.com/recipes/1017297-blood-orange-smoothie-with-grapes-and-red-quinoa\n",
      "Quinoa and Rice Bowl With Kale, Kimchi and Egg: http://cooking.nytimes.com/recipes/1016855-quinoa-and-rice-bowl-with-kale-kimchi-and-egg\n",
      "Grilled Striped Bass With Charred Kale and Yellow Squash: http://cooking.nytimes.com/recipes/1015298-grilled-striped-bass-with-charred-kale-and-yellow-squash\n",
      "Matthew Kenney’s Favorite Green Juice: http://cooking.nytimes.com/recipes/1014675-matthew-kenneys-favorite-green-juice\n",
      "Pasta With Anchovies, Garlic, Chiles and Kale: http://cooking.nytimes.com/recipes/1015085-pasta-with-anchovies-garlic-chiles-and-kale\n",
      "Tomato, Kale and Mozzarella Sandwich With Parsley Pesto: http://cooking.nytimes.com/recipes/1015446-tomato-kale-and-mozzarella-sandwich-with-parsley-pesto\n",
      "Seasoned Blanched Kale: http://cooking.nytimes.com/recipes/1015449-seasoned-blanched-kale\n",
      "Quick Tomato, White Bean and Kale Soup: http://cooking.nytimes.com/recipes/1014524-quick-tomato-white-bean-and-kale-soup\n",
      "Garbanzos and Greens with Chorizo: http://cooking.nytimes.com/recipes/1014516-garbanzos-and-greens-with-chorizo\n",
      "Scotch Broth with Kale: http://cooking.nytimes.com/recipes/1014446-scotch-broth-with-kale\n",
      "Pork and Beans with Garlic and Greens: http://cooking.nytimes.com/recipes/1014362-pork-and-beans-with-garlic-and-greens\n",
      "Kale Tabbouleh: http://cooking.nytimes.com/recipes/12915-kale-tabbouleh\n",
      "Sautéed Kale: http://cooking.nytimes.com/recipes/12874-sauteed-kale\n",
      "Stir-Fried Chicken With Greens: http://cooking.nytimes.com/recipes/12867-stir-fried-chicken-with-greens\n",
      "Bibimbap With Clams, Kale, Daikon and Carrots: http://cooking.nytimes.com/recipes/1015435-bibimbap-with-clams-kale-daikon-and-carrots\n",
      "Savory Bread Pudding With Kale and Mushrooms: http://cooking.nytimes.com/recipes/12280-savory-bread-pudding-with-kale-and-mushrooms\n",
      "Kale Salad With Cranberries and Cashews: http://cooking.nytimes.com/recipes/1015486-kale-salad-with-cranberries-and-cashews\n",
      "Farfalle With Cabbage and Black Kale: http://cooking.nytimes.com/recipes/1015489-farfalle-with-cabbage-and-black-kale\n",
      "Bulgur and Kale Casserole With Yogurt Topping: http://cooking.nytimes.com/recipes/1014290-bulgur-and-kale-casserole-with-yogurt-topping\n",
      "Slow-Baked Beans With Kale: http://cooking.nytimes.com/recipes/1013464-slow-baked-beans-with-kale\n",
      "Ham Bone Soup: http://cooking.nytimes.com/recipes/1013444-ham-bone-soup\n",
      "Royal Cake Bisteeya: http://cooking.nytimes.com/recipes/1014310-royal-cake-bisteeya\n",
      "Coconut Kale: http://cooking.nytimes.com/recipes/1013331-coconut-kale\n",
      "Vegetable Soup: http://cooking.nytimes.com/recipes/1014309-vegetable-soup\n",
      "Cranberry Bean and Kale Soup: http://cooking.nytimes.com/recipes/1014069-cranberry-bean-and-kale-soup\n",
      "Crispy Kale: http://cooking.nytimes.com/recipes/1012778-crispy-kale\n",
      "Tuscan Kale Salad: http://cooking.nytimes.com/recipes/11746-tuscan-kale-salad\n",
      "Pasta with Wild Boar Sausage and Kale: http://cooking.nytimes.com/recipes/11322-pasta-with-wild-boar-sausage-and-kale\n",
      "Whole-Grain Stuffing With Kale and Dried Fruit: http://cooking.nytimes.com/recipes/445-whole-grain-stuffing-with-kale-and-dried-fruit\n",
      "Kale, Sausage And Mushroom Stew: http://cooking.nytimes.com/recipes/8418-kale-sausage-and-mushroom-stew\n",
      "Kale and Potato Soup: http://cooking.nytimes.com/recipes/9032-kale-and-potato-soup\n",
      "30-Vegetable Soup: http://cooking.nytimes.com/recipes/5473-30-vegetable-soup\n",
      "Cod Stew With Tomatoes, Kale And Chorizo: http://cooking.nytimes.com/recipes/4839-cod-stew-with-tomatoes-kale-and-chorizo\n",
      "Risotto With Beans and Kale: http://cooking.nytimes.com/recipes/6026-risotto-with-beans-and-kale\n",
      "Kale and Oven-Dried-Tomato Lasagna: http://cooking.nytimes.com/recipes/7418-kale-and-oven-dried-tomato-lasagna\n",
      "Kale-Smothered Pork Chops: http://cooking.nytimes.com/recipes/7417-kale-smothered-pork-chops\n",
      "Kale Soup With Potatoes and Sausage: http://cooking.nytimes.com/recipes/7416-kale-soup-with-potatoes-and-sausage\n",
      "Kale, Sweet Potato And Pasta Soup: http://cooking.nytimes.com/recipes/9537-kale-sweet-potato-and-pasta-soup\n",
      "Rice With Andouille And Kale: http://cooking.nytimes.com/recipes/9938-rice-with-andouille-and-kale\n",
      "Fish With Celery Root, Kale and Mushrooms: http://cooking.nytimes.com/recipes/9299-fish-with-celery-root-kale-and-mushrooms\n",
      "Kale With Garlic And Raisins: http://cooking.nytimes.com/recipes/443-kale-with-garlic-and-raisins\n",
      "Portuguese Smothered Cod: http://cooking.nytimes.com/recipes/4450-portuguese-smothered-cod\n",
      "Caldo Verde With Lobster: http://cooking.nytimes.com/recipes/4603-caldo-verde-with-lobster\n",
      "Black-Eyed Peas And Kale Ragout: http://cooking.nytimes.com/recipes/3937-black-eyed-peas-and-kale-ragout\n",
      "Kale With Potatoes, Anchovies and Hot Pepper: http://cooking.nytimes.com/recipes/11180-kale-with-potatoes-anchovies-and-hot-pepper\n",
      "Greens In Phyllo: http://cooking.nytimes.com/recipes/1627-greens-in-phyllo\n",
      "Veal Shanks With Oriental Vegetables: http://cooking.nytimes.com/recipes/10734-veal-shanks-with-oriental-vegetables\n",
      "Portuguese Fish Stew: http://cooking.nytimes.com/recipes/4682-portuguese-fish-stew\n",
      "Marinated Asparagus And Yellow Pear Tomatoes: http://cooking.nytimes.com/recipes/8740-marinated-asparagus-and-yellow-pear-tomatoes\n",
      "Kale and Pinkelwurst: http://cooking.nytimes.com/recipes/694-kale-and-pinkelwurst\n"
     ]
    }
   ],
   "source": [
    "for n,u in name_url:\n",
    "    print('{}: {}'.format(n,u))"
   ]
  }
 ],
 "metadata": {
  "kernelspec": {
   "display_name": "Python 3",
   "language": "python",
   "name": "python3"
  },
  "language_info": {
   "codemirror_mode": {
    "name": "ipython",
    "version": 3
   },
   "file_extension": ".py",
   "mimetype": "text/x-python",
   "name": "python",
   "nbconvert_exporter": "python",
   "pygments_lexer": "ipython3",
   "version": "3.5.1"
  }
 },
 "nbformat": 4,
 "nbformat_minor": 0
}
