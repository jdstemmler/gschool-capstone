{
 "cells": [
  {
   "cell_type": "code",
   "execution_count": 1,
   "metadata": {
    "collapsed": true
   },
   "outputs": [],
   "source": [
    "import pickle\n",
    "from sklearn.feature_extraction.text import TfidfVectorizer\n",
    "from sklearn.decomposition import NMF\n",
    "from numpy.linalg import svd"
   ]
  },
  {
   "cell_type": "code",
   "execution_count": 2,
   "metadata": {
    "collapsed": true
   },
   "outputs": [],
   "source": [
    "from nltk.corpus import stopwords"
   ]
  },
  {
   "cell_type": "code",
   "execution_count": 3,
   "metadata": {
    "collapsed": true
   },
   "outputs": [],
   "source": [
    "from prettytable import PrettyTable"
   ]
  },
  {
   "cell_type": "code",
   "execution_count": 4,
   "metadata": {
    "collapsed": false
   },
   "outputs": [],
   "source": [
    "def print_topics(H, word_list, n_words=15, n_topics='all', max_width=80):\n",
    "    pt = PrettyTable(['Topic', 'Words'])\n",
    "    pt.valign['Topic'] = 'm'\n",
    "    pt.align['Words'] = 'l'\n",
    "    pt.max_width=max_width\n",
    "    if n_topics == 'all':\n",
    "        nt = len(H)\n",
    "    else:\n",
    "        nt = n_topics\n",
    "        \n",
    "    for ix in range(nt):\n",
    "        w = ', '.join(words[np.argsort(H[ix])[-n_words:][::-1]])\n",
    "        pt.add_row([ix, w])\n",
    "        pt.add_row(['', ''])\n",
    "    print(pt)"
   ]
  },
  {
   "cell_type": "code",
   "execution_count": 5,
   "metadata": {
    "collapsed": true
   },
   "outputs": [],
   "source": [
    "with open('../pickles/features.pkl', 'rb') as f:\n",
    "    features = pickle.load(f)"
   ]
  },
  {
   "cell_type": "code",
   "execution_count": 6,
   "metadata": {
    "collapsed": true
   },
   "outputs": [],
   "source": [
    "components = features['components']\n",
    "directions = components['directions']\n",
    "joined_directions = [' '.join(x) for x in directions]"
   ]
  },
  {
   "cell_type": "code",
   "execution_count": 7,
   "metadata": {
    "collapsed": true
   },
   "outputs": [],
   "source": [
    "stop_words = ['teaspoon', 'tablespoon'] + stopwords.words('english')"
   ]
  },
  {
   "cell_type": "code",
   "execution_count": 8,
   "metadata": {
    "collapsed": true
   },
   "outputs": [],
   "source": [
    "tf = TfidfVectorizer(ngram_range=(2,3), stop_words=stop_words)\n",
    "tf_idf = tf.fit_transform(joined_directions)\n",
    "words = np.array(tf.get_feature_names())"
   ]
  },
  {
   "cell_type": "code",
   "execution_count": 70,
   "metadata": {
    "collapsed": false
   },
   "outputs": [
    {
     "data": {
      "text/plain": [
       "(16991, 1110380)"
      ]
     },
     "execution_count": 70,
     "metadata": {},
     "output_type": "execute_result"
    }
   ],
   "source": [
    "tf_idf.shape"
   ]
  },
  {
   "cell_type": "code",
   "execution_count": 27,
   "metadata": {
    "collapsed": true
   },
   "outputs": [],
   "source": [
    "mf = NMF(max_iter=300, n_components=10, verbose=0)\n",
    "mf.fit(tf_idf)\n",
    "\n",
    "W, H = mf.transform(tf_idf), mf.components_"
   ]
  },
  {
   "cell_type": "code",
   "execution_count": 19,
   "metadata": {
    "collapsed": false
   },
   "outputs": [
    {
     "data": {
      "text/plain": [
       "((16991, 5), (5, 1110380))"
      ]
     },
     "execution_count": 19,
     "metadata": {},
     "output_type": "execute_result"
    }
   ],
   "source": [
    "W.shape, H.shape"
   ]
  },
  {
   "cell_type": "code",
   "execution_count": 28,
   "metadata": {
    "collapsed": false,
    "scrolled": false
   },
   "outputs": [
    {
     "name": "stdout",
     "output_type": "stream",
     "text": [
      "+-------+----------------------------------------------------------------------------------+\n",
      "| Topic | Words                                                                            |\n",
      "+-------+----------------------------------------------------------------------------------+\n",
      "|       | cook stirring, stirring often, cook stirring often, minutes add, oil medium,     |\n",
      "|   0   | taste adjust, oil medium heat, salt taste, olive oil, large heavy, medium heat,  |\n",
      "|       | heat olive oil, onion cook stirring, heat olive, onion cook                      |\n",
      "|       |                                                                                  |\n",
      "|       | preheat oven, 350 degrees, oven 350, oven 350 degrees, baking sheet, preheat     |\n",
      "|   1   | oven 350, baking dish, baking powder, set aside, egg whites, large bowl, 30      |\n",
      "|       | minutes, heat oven, oven bake, 15 minutes                                        |\n",
      "|       |                                                                                  |\n",
      "|       | stir fry, soy sauce, garlic ginger, stir fry minutes, stir fry minute, heat drop |\n",
      "|   2   | water, fry minutes, high heat drop, fry minute, heat drop, drop water, drop      |\n",
      "|       | water evaporates, heat 14 inch, heat 14, flat bottomed wok                       |\n",
      "|       |                                                                                  |\n",
      "|       | ingredients blender, ingredients blender blend, place ingredients, blender       |\n",
      "|   3   | blend, place ingredients blender, blend high speed, blend high, blender blend    |\n",
      "|       | high, high speed, smooth serve, blender blend smooth, blend smooth, combine      |\n",
      "|       | ingredients, combine ingredients blender, high speed minute                      |\n",
      "|       |                                                                                  |\n",
      "|       | ice strain, strain chilled, ingredients ice, ingredients ice strain, ice strain  |\n",
      "|   4   | chilled, chilled coupe, strain chilled coupe, coupe glass, chilled coupe glass,  |\n",
      "|       | glass garnish, liquid ingredients ice, liquid ingredients, stir ingredients ice, |\n",
      "|       | stir ingredients, shake ingredients                                              |\n",
      "|       |                                                                                  |\n",
      "|       | high heat, medium high, heat add, medium high heat, minutes add, reduce heat,    |\n",
      "|   5   | medium heat, bring boil, salt pepper, skillet medium, 10 minutes, stirring       |\n",
      "|       | occasionally, heat medium, low heat, high heat add                               |\n",
      "|       |                                                                                  |\n",
      "|       | 100 percent, percent power, 100 percent power, oven uncover, remove oven         |\n",
      "|   6   | uncover, remove oven, cook 100 percent, cook 100, release steam, prick plastic,  |\n",
      "|       | plastic wrap cook, wrap cook, plastic release, plastic release steam, release    |\n",
      "|       | steam remove                                                                     |\n",
      "|       |                                                                                  |\n",
      "|       | olive oil, salt pepper, water boil, lemon juice, salted water, large pot, bring  |\n",
      "|   7   | large, bring large pot, season salt, boil add, minutes drain, season salt        |\n",
      "|       | pepper, set aside, salted water boil, large bowl                                 |\n",
      "|       |                                                                                  |\n",
      "|       | another ladleful, add another ladleful, add another, stock rice, ladleful two,   |\n",
      "|   8   | another ladleful two, ladleful two stock, two stock, wide heavy, continue cook   |\n",
      "|       | fashion, cook fashion, cover rice, absorbed add, simmering stock, stock continue |\n",
      "|       |                                                                                  |\n",
      "|       | saucepan add, cook stirring, bay leaf, bring boil, salt pepper, wilted add,      |\n",
      "|   9   | skillet add, butter saucepan, butter saucepan add, stirring wilted, heat butter, |\n",
      "|       | cook briefly, stirring wilted add, blend well, cook stirring wilted              |\n",
      "|       |                                                                                  |\n",
      "+-------+----------------------------------------------------------------------------------+\n"
     ]
    }
   ],
   "source": [
    "print_topics(H, words)"
   ]
  },
  {
   "cell_type": "code",
   "execution_count": 43,
   "metadata": {
    "collapsed": false
   },
   "outputs": [],
   "source": [
    "match = (np.random.random(10) * len(W)).astype(int)"
   ]
  },
  {
   "cell_type": "code",
   "execution_count": 45,
   "metadata": {
    "collapsed": false
   },
   "outputs": [],
   "source": [
    "recipes = W[match]"
   ]
  },
  {
   "cell_type": "code",
   "execution_count": 32,
   "metadata": {
    "collapsed": true
   },
   "outputs": [],
   "source": [
    "from sklearn.cluster import KMeans"
   ]
  },
  {
   "cell_type": "code",
   "execution_count": 47,
   "metadata": {
    "collapsed": false
   },
   "outputs": [],
   "source": [
    "km = KMeans(n_clusters=5)\n",
    "km.fit(recipes)\n",
    "dist = km.transform(recipes)"
   ]
  },
  {
   "cell_type": "code",
   "execution_count": 65,
   "metadata": {
    "collapsed": false
   },
   "outputs": [
    {
     "name": "stdout",
     "output_type": "stream",
     "text": [
      "[ 0.06314184  0.06772584  0.05869213  0.055518    0.06349057  0.06758303\n",
      "  0.03195099  0.          0.07348587  0.07240054]\n",
      "[7 6 3 2 0 4 5 1 9 8]\n"
     ]
    }
   ],
   "source": [
    "print(dist[:,0])\n",
    "print(dist[:,0].argsort())"
   ]
  },
  {
   "cell_type": "code",
   "execution_count": 74,
   "metadata": {
    "collapsed": false
   },
   "outputs": [
    {
     "data": {
      "text/plain": [
       "{0, 1, 2, 3, 4, 5, 6, 7, 8, 9}"
      ]
     },
     "execution_count": 74,
     "metadata": {},
     "output_type": "execute_result"
    }
   ],
   "source": [
    "set(np.argsort(dist, axis=0).ravel())"
   ]
  }
 ],
 "metadata": {
  "kernelspec": {
   "display_name": "Python 3",
   "language": "python",
   "name": "python3"
  },
  "language_info": {
   "codemirror_mode": {
    "name": "ipython",
    "version": 3
   },
   "file_extension": ".py",
   "mimetype": "text/x-python",
   "name": "python",
   "nbconvert_exporter": "python",
   "pygments_lexer": "ipython3",
   "version": "3.5.1"
  }
 },
 "nbformat": 4,
 "nbformat_minor": 0
}
