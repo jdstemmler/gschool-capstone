{
 "cells": [
  {
   "cell_type": "code",
   "execution_count": 1,
   "metadata": {
    "collapsed": true
   },
   "outputs": [],
   "source": [
    "import os\n",
    "import pickle\n",
    "import numpy as np\n",
    "from prettytable import PrettyTable\n",
    "from collections import Counter"
   ]
  },
  {
   "cell_type": "code",
   "execution_count": 2,
   "metadata": {
    "collapsed": true
   },
   "outputs": [],
   "source": [
    "from sklearn.feature_extraction.text import TfidfVectorizer"
   ]
  },
  {
   "cell_type": "code",
   "execution_count": 3,
   "metadata": {
    "collapsed": true
   },
   "outputs": [],
   "source": [
    "def print_topics(H, word_list, n_words=15, n_topics='all', max_width=80):\n",
    "    pt = PrettyTable(['Topic', 'Words'])\n",
    "    pt.valign['Topic'] = 'm'\n",
    "    pt.align['Words'] = 'l'\n",
    "    pt.max_width=max_width\n",
    "    if n_topics == 'all':\n",
    "        nt = len(H)\n",
    "    else:\n",
    "        nt = n_topics\n",
    "    \n",
    "    C = Counter()\n",
    "    \n",
    "    for ix in range(nt):\n",
    "        w = ', '.join(np.array(word_list)[np.argsort(H[ix])[-n_words:][::-1]])\n",
    "        pt.add_row([ix, w])\n",
    "        pt.add_row(['', ''])\n",
    "        C.update(w.split(', '))\n",
    "    print(pt)\n",
    "    \n",
    "    return C"
   ]
  },
  {
   "cell_type": "code",
   "execution_count": 4,
   "metadata": {
    "collapsed": true
   },
   "outputs": [],
   "source": [
    "pickle_dir = 'pickles/'\n",
    "feat_pickle = os.path.join(pickle_dir, 'features.pkl')\n",
    "topic_pickle = os.path.join(pickle_dir, 'topics.pkl')"
   ]
  },
  {
   "cell_type": "code",
   "execution_count": 5,
   "metadata": {
    "collapsed": false
   },
   "outputs": [],
   "source": [
    "with open(feat_pickle, 'rb') as f:\n",
    "    features = pickle.load(f)"
   ]
  },
  {
   "cell_type": "code",
   "execution_count": 6,
   "metadata": {
    "collapsed": false
   },
   "outputs": [],
   "source": [
    "with open(topic_pickle, 'rb') as f:\n",
    "    topics = pickle.load(f)"
   ]
  },
  {
   "cell_type": "code",
   "execution_count": 7,
   "metadata": {
    "collapsed": false,
    "scrolled": false
   },
   "outputs": [
    {
     "name": "stdout",
     "output_type": "stream",
     "text": [
      "+-------+----------------------------------------------------------------------------------+\n",
      "| Topic | Words                                                                            |\n",
      "+-------+----------------------------------------------------------------------------------+\n",
      "|       | baking powder, flour baking, flour baking powder, baking soda, comes clean, sift |\n",
      "|   0   | flour, inserted center, preheat 350, flour mixture, sift flour baking, center    |\n",
      "|       | comes, powder baking, powder baking soda, baking powder baking, center comes     |\n",
      "|       | clean                                                                            |\n",
      "|       |                                                                                  |\n",
      "|       | 100 percent, percent power, 100 percent power, remove uncover, release steam,    |\n",
      "|   1   | prick plastic, microwave plastic, microwave plastic wrap, plastic release,       |\n",
      "|       | plastic release steam, tightly microwave, prick plastic release, wrap 100,       |\n",
      "|       | plastic wrap 100, wrap 100 percent                                               |\n",
      "|       |                                                                                  |\n",
      "|       | cocktail glass, chilled cocktail, ice shake, chilled cocktail glass, cocktail    |\n",
      "|   2   | shaker, shaker ice, strain chilled cocktail, shake strain, strain chilled,       |\n",
      "|       | shaker ice shake, cocktail shaker ice, glass garnish, shake vigorously, ice      |\n",
      "|       | shake strain, ice shake vigorously                                               |\n",
      "|       |                                                                                  |\n",
      "|       | paper towels, dry paper, dry paper towels, slotted spoon, golden brown, pat dry, |\n",
      "|   3   | remove slotted, remove slotted spoon, bread crumbs, pat dry paper, paper towel,  |\n",
      "|       | using slotted spoon, using slotted, working batches, fry golden                  |\n",
      "|       |                                                                                  |\n",
      "|       | fry minute, garlic ginger, flat bottomed wok, bottomed wok, inch flat bottomed,  |\n",
      "|   4   | 14 inch flat, inch flat, flat bottomed, drop evaporates, rice wine, fry 10, 10   |\n",
      "|       | seconds, fry 10 seconds, 14 inch, evaporates second                              |\n",
      "|       |                                                                                  |\n",
      "|       | adjust seasoning, taste adjust seasoning, taste adjust, adjust seasoning         |\n",
      "|   5   | necessary, seasoning necessary, toss taste adjust, toss taste, adjust seasoning  |\n",
      "|       | garnish, juice taste adjust, seasoning garnish, adjust seasoning adding,         |\n",
      "|       | seasoning adding, let sit, minute later, juice taste                             |\n",
      "|       |                                                                                  |\n",
      "|       | food processor, processor process, food processor process, process smooth,       |\n",
      "|   6   | blender food, blender food processor, processor blender, food processor blender, |\n",
      "|       | processor fitted, food processor fitted, steel blade, fitted steel, processor    |\n",
      "|       | fitted steel, fitted steel blade, processor pulse                                |\n",
      "|       |                                                                                  |\n",
      "|       | ladleful stock, stock rice, adding stock, stock just, stock continue, simmering  |\n",
      "|   7   | stock, just rice, continue fashion, absorbed ladleful, ladleful stock continue,  |\n",
      "|       | absorbed ladleful stock, stock just rice, rice dry, stock continue fashion,      |\n",
      "|       | stock rice dry                                                                   |\n",
      "|       |                                                                                  |\n",
      "|       | 30 seconds, taste adjust, adjust seasonings, taste adjust seasonings, bouquet    |\n",
      "|   8   | garni, fragrant 30, fragrant 30 seconds, garlic fragrant, onion tender, 30       |\n",
      "|       | seconds minute, seconds minute, tender garlic, garlic fragrant 30, generous      |\n",
      "|       | pinch, tomatoes cooked                                                           |\n",
      "|       |                                                                                  |\n",
      "|       | ice strain, ice strain chilled, strain chilled, chilled coupe, strain chilled    |\n",
      "|   9   | coupe, coupe glass, chilled coupe glass, shake ice, shake ice strain, glass      |\n",
      "|       | garnish, liquid ice, liquid ice strain, coupe glass garnish, shake liquid ice,   |\n",
      "|       | shake liquid                                                                     |\n",
      "|       |                                                                                  |\n",
      "|       | baking sheet, sheet bake, baking sheet bake, line baking, line baking sheet,     |\n",
      "|   10  | sheet parchment, parchment paper, baking sheet parchment, sheet parchment paper, |\n",
      "|       | rimmed baking, rimmed baking sheet, lightly browned, sheet roast, baking sheet   |\n",
      "|       | roast, lined baking                                                              |\n",
      "|       |                                                                                  |\n",
      "|       | lemon juice, whisk lemon, whisk lemon juice, lemon juice taste, juice taste,     |\n",
      "|   11  | juice vinegar, lemon juice vinegar, salad toss, lemon juice garlic, juice        |\n",
      "|       | garlic, remaining lemon, lemon juice season, sugar lemon, remaining lemon juice, |\n",
      "|       | toss salad                                                                       |\n",
      "|       |                                                                                  |\n",
      "|       | tablespoons butter, tablespoon butter, melt tablespoons, melt tablespoons        |\n",
      "|   12  | butter, remaining tablespoons, remaining tablespoons butter, remaining butter,   |\n",
      "|       | remaining tablespoon butter, remaining tablespoon, melt remaining, bread crumbs, |\n",
      "|       | wire whisk, butter small, butter shallots, melt tablespoon butter                |\n",
      "|       |                                                                                  |\n",
      "|       | wash trim, wash dry, chop onion, mince garlic, saute onion, trim seed, onion     |\n",
      "|   13  | begins, bite size, wash dry chop, wash trim seed, dry chop, bite size pieces,    |\n",
      "|       | continue cooking, size pieces, hot saute                                         |\n",
      "|       |                                                                                  |\n",
      "|       | cooking liquid, cup cooking, cup cooking liquid, reserved cooking, al dente,     |\n",
      "|   14  | reserved cooking liquid, reserve cup, reserve cup cooking, inch cubes, garlic    |\n",
      "|       | briefly, cut inch, pasta al, pasta al dente, pasta cooking, parmesan cheese      |\n",
      "|       |                                                                                  |\n",
      "|       | doesn burn, make sure, run underneath, eggs run underneath, eggs run, lifting    |\n",
      "|   15  | edges, shake gently, hand lifting, hand lifting edges, shake gently tilting,     |\n",
      "|       | slightly hand, slightly hand lifting, tilting slightly hand, tilting slightly,   |\n",
      "|       | gently tilting slightly                                                          |\n",
      "|       |                                                                                  |\n",
      "|       | ice cream, cream maker, ice cream maker, according manufacturer, manufacturer    |\n",
      "|   16  | instructions, vanilla bean, according manufacturer instructions, manufacturer    |\n",
      "|       | directions, freeze according, freeze ice, freeze ice cream, mixture ice, mixture |\n",
      "|       | ice cream, cup sugar, according manufacturer directions                          |\n",
      "|       |                                                                                  |\n",
      "|       | blender blend, blend speed, blender blend speed, blend smooth, blender blend     |\n",
      "|   17  | smooth, blend speed minute, speed minute, blend speed smooth, speed smooth,      |\n",
      "|       | smooth right away, smooth right, pour glass, minute pour glass, right away,      |\n",
      "|       | minute smooth                                                                    |\n",
      "|       |                                                                                  |\n",
      "|       | flat lid, jars 10, running dishwasher, canning rings small, jars running, lids   |\n",
      "|   18  | soften, jars running dishwasher, rings small, rings small turn, jars 10 jars,    |\n",
      "|       | canning rings, 10 jars left, 10 jars, jars left, folded kitchen towel            |\n",
      "|       |                                                                                  |\n",
      "|       | plastic wrap, lightly floured, floured surface, lightly floured surface, roll    |\n",
      "|   19  | dough, dough lightly, let rise, work surface, turn dough, dough lightly floured, |\n",
      "|       | baking sheets, surface knead, wrap plastic, divide dough, dough ball             |\n",
      "|       |                                                                                  |\n",
      "|       | bay leaf, remove bay, remove bay leaf, bay leaf thyme, leaf thyme, thyme bay,    |\n",
      "|   20  | thyme bay leaf, onion garlic, onions garlic, thyme sprigs, discard bay, wilted   |\n",
      "|       | rice, discard bay leaf, garlic wilted, garlic bay                                |\n",
      "|       |                                                                                  |\n",
      "|       | glass ice, highball glass, filled ice, glass filled, glass filled ice, rocks     |\n",
      "|   21  | glass, highball glass ice, ice garnish, garnish orange, simple syrup, old        |\n",
      "|       | fashioned, fashioned glass, old fashioned glass, club soda, orange twist         |\n",
      "|       |                                                                                  |\n",
      "|       | turn burners, gas grill, build grill, coals covered, coals covered gray, covered |\n",
      "|   22  | gray ash, covered gray, gray ash, hold hand inches, hand inches, hold hand,      |\n",
      "|       | grill turn, gas grill turn, grill turn burners, directly coals                   |\n",
      "|       |                                                                                  |\n",
      "|       | fine mesh, mesh sieve, fine mesh sieve, strain fine, strain fine mesh, whisking  |\n",
      "|   23  | constantly, whisking constantly slowly, constantly slowly, whisk yolks, whisk    |\n",
      "|       | hot cream, slowly whisk hot, hot cream, read thermometer, instant read           |\n",
      "|       | thermometer, constantly slowly whisk                                             |\n",
      "|       |                                                                                  |\n",
      "|       | lime juice, lemon grass, coconut milk, remaining lime, remaining lime juice,     |\n",
      "|   24  | lime zest, refrigerate hours, grill broiler, grill broil, lime juice sugar, lime |\n",
      "|       | juice taste, juice sugar, let sit, fish lime, juice lime                         |\n",
      "|       |                                                                                  |\n",
      "|       | egg whites, beat egg, egg yolks, beat egg whites, cup sugar, soft peaks, whites  |\n",
      "|   25  | stiff, chocolate mixture, beat egg yolks, egg whites stiff, peaks form, whisk    |\n",
      "|       | egg, yolk mixture, stiff peaks, gently fold                                      |\n",
      "|       |                                                                                  |\n",
      "|       | wings cooked, gas grill, rack inches, charcoal gas, charcoal gas grill, hot      |\n",
      "|   26  | rack, hot rack inches, moderately hot, moderately hot rack, grill moderately,    |\n",
      "|       | gas grill moderately, grill moderately hot, nicely browned, nicely browned       |\n",
      "|       | sides, hot grill                                                                 |\n",
      "|       |                                                                                  |\n",
      "|       | baking dish, preheat 350, dish bake, bread crumbs, quart baking, baking dish     |\n",
      "|   27  | bake, quart baking dish, foil bake, bake 30, preheat 375, shallow baking,        |\n",
      "|       | shallow baking dish, inch baking dish, inch baking, bake 20                      |\n",
      "|       |                                                                                  |\n",
      "|       | room temperature, warm room, warm room temperature, let stand, hot room, hot     |\n",
      "|   28  | room temperature, stand room, stand room temperature, let stand room,            |\n",
      "|       | temperature hour, room temperature hour, temperature refrigerate, room           |\n",
      "|       | temperature refrigerate, room temperature hours, temperature hours               |\n",
      "|       |                                                                                  |\n",
      "|       | season taste, melt butter, onion garlic, lightly browned, al dente, garlic       |\n",
      "|   29  | saute, potatoes tender, bay leaves, tender 10, toss season, parmesan cheese,     |\n",
      "|       | serving dish, toss season taste, onion saute, just tender                        |\n",
      "|       |                                                                                  |\n",
      "+-------+----------------------------------------------------------------------------------+\n"
     ]
    }
   ],
   "source": [
    "word_counts = print_topics(topics['H'], features['directions_vocab'])"
   ]
  },
  {
   "cell_type": "code",
   "execution_count": 8,
   "metadata": {
    "collapsed": false
   },
   "outputs": [
    {
     "data": {
      "text/plain": [
       "[('bread crumbs', 3),\n",
       " ('gas grill', 2),\n",
       " ('lightly browned', 2),\n",
       " ('onion garlic', 2),\n",
       " ('strain chilled', 2),\n",
       " ('taste adjust', 2),\n",
       " ('al dente', 2),\n",
       " ('let sit', 2),\n",
       " ('parmesan cheese', 2),\n",
       " ('glass garnish', 2)]"
      ]
     },
     "execution_count": 8,
     "metadata": {},
     "output_type": "execute_result"
    }
   ],
   "source": [
    "word_counts.most_common(10)"
   ]
  }
 ],
 "metadata": {
  "kernelspec": {
   "display_name": "Python 3",
   "language": "python",
   "name": "python3"
  },
  "language_info": {
   "codemirror_mode": {
    "name": "ipython",
    "version": 3
   },
   "file_extension": ".py",
   "mimetype": "text/x-python",
   "name": "python",
   "nbconvert_exporter": "python",
   "pygments_lexer": "ipython3",
   "version": "3.5.1"
  }
 },
 "nbformat": 4,
 "nbformat_minor": 0
}
