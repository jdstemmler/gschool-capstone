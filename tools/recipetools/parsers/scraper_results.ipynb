{
 "cells": [
  {
   "cell_type": "markdown",
   "metadata": {},
   "source": [
    "# NYT Recipe Scraper Results\n",
    "\n",
    "This notebook just looks at the output of recipes using the current version of the scraper. This is mostly a debugging notebook to check and see that the scraper is doing what it's supposed to be doing, and for investigating recipes that run into issues when being parsed."
   ]
  },
  {
   "cell_type": "code",
   "execution_count": 1,
   "metadata": {
    "collapsed": false
   },
   "outputs": [],
   "source": [
    "from recipetools.parsers import NYTimesCooking\n",
    "import requests"
   ]
  },
  {
   "cell_type": "code",
   "execution_count": 2,
   "metadata": {
    "collapsed": true
   },
   "outputs": [],
   "source": [
    "url = 'http://cooking.nytimes.com/recipes/8096-grilled-pineapple-salsa'\n",
    "result = requests.get(url)\n",
    "recipe = NYTimesCooking(result.content)"
   ]
  },
  {
   "cell_type": "code",
   "execution_count": 3,
   "metadata": {
    "collapsed": false
   },
   "outputs": [
    {
     "name": "stdout",
     "output_type": "stream",
     "text": [
      "NAME\n",
      "----\n",
      "Grilled Pineapple Salsa\n",
      "\n",
      "AUTHOR\n",
      "------\n",
      "Mark Bittman\n",
      "\n",
      "DESCRIPTION\n",
      "-----------\n",
      "\n",
      "\n",
      "INGREDIENTS\n",
      "-----------\n",
      "OPTION NO 1\n",
      "  1 teaspoon mild chili powder, like Aleppo or New Mexico\n",
      "  1 teaspoon salt\n",
      "  1 teaspoon sugar\n",
      "  1 medium pineapple, peeled, cored and sliced or quartered\n",
      "\n",
      "OPTION NO 2\n",
      "  1 medium red onion, chopped\n",
      "  1 tablespoon lemon juice, or to taste\n",
      "  ¼ cup chopped fresh cilantro or mint leaves, or a combination\n",
      "\n",
      "OPTION NO 3\n",
      "  4 scallions, chopped\n",
      "  1 tablespoon minced fresh ginger\n",
      "  ½ teaspoon minced garlic\n",
      "  2 teaspoons soy sauce\n",
      "  1 tablespoon lime juice, or to taste\n",
      "\n",
      "DIRECTIONS\n",
      "----------\n",
      "Start a charcoal or gas grill; fire should be moderately hot. Combine chili powder, salt and sugar and sprinkle pineapple with it. Grill on each side until lightly browned, 5 to 10 minutes total. Remove and cool.\n",
      "\n",
      "Roughly chop pineapple and combine it and its juice with any of the 3 groups of ingredients. Taste and adjust seasoning and serve immediately.\n",
      "\n",
      "NOTES\n",
      "-----\n",
      "\n",
      "NUTRITION INFORMATION\n",
      "---------------------\n",
      "\n",
      "  \n"
     ]
    }
   ],
   "source": [
    "print(recipe)"
   ]
  },
  {
   "cell_type": "code",
   "execution_count": 4,
   "metadata": {
    "collapsed": false
   },
   "outputs": [
    {
     "data": {
      "text/plain": [
       "{'author': 'Mark Bittman',\n",
       " 'categories': ['Vegetarian', 'Pineapple', 'Scallion', 'Tomato'],\n",
       " 'description': '',\n",
       " 'directions': ['Start a charcoal or gas grill; fire should be moderately hot. Combine chili powder, salt and sugar and sprinkle pineapple with it. Grill on each side until lightly browned, 5 to 10 minutes total. Remove and cool.',\n",
       "  'Roughly chop pineapple and combine it and its juice with any of the 3 groups of ingredients. Taste and adjust seasoning and serve immediately.'],\n",
       " 'ingredient_names': ['chili powder',\n",
       "  'salt',\n",
       "  'sugar',\n",
       "  'pineapple',\n",
       "  'red onion',\n",
       "  'lemon juice',\n",
       "  'cilantro',\n",
       "  'scallions',\n",
       "  'ginger',\n",
       "  'garlic',\n",
       "  'soy sauce',\n",
       "  'lime juice'],\n",
       " 'ingredients': OrderedDict([('Option No 1',\n",
       "               ['1 teaspoon mild chili powder, like Aleppo or New Mexico',\n",
       "                '1 teaspoon salt',\n",
       "                '1 teaspoon sugar',\n",
       "                '1 medium pineapple, peeled, cored and sliced or quartered']),\n",
       "              ('Option No 2',\n",
       "               ['1 medium red onion, chopped',\n",
       "                '1 tablespoon lemon juice, or to taste',\n",
       "                '¼ cup chopped fresh cilantro or mint leaves, or a combination']),\n",
       "              ('Option No 3',\n",
       "               ['4 scallions, chopped',\n",
       "                '1 tablespoon minced fresh ginger',\n",
       "                '½ teaspoon minced garlic',\n",
       "                '2 teaspoons soy sauce',\n",
       "                '1 tablespoon lime juice, or to taste'])]),\n",
       " 'name': 'Grilled Pineapple Salsa'}"
      ]
     },
     "execution_count": 4,
     "metadata": {},
     "output_type": "execute_result"
    }
   ],
   "source": [
    "recipe.to_dict()"
   ]
  }
 ],
 "metadata": {
  "kernelspec": {
   "display_name": "Python 3",
   "language": "python",
   "name": "python3"
  },
  "language_info": {
   "codemirror_mode": {
    "name": "ipython",
    "version": 3
   },
   "file_extension": ".py",
   "mimetype": "text/x-python",
   "name": "python",
   "nbconvert_exporter": "python",
   "pygments_lexer": "ipython3",
   "version": "3.5.1"
  }
 },
 "nbformat": 4,
 "nbformat_minor": 0
}
