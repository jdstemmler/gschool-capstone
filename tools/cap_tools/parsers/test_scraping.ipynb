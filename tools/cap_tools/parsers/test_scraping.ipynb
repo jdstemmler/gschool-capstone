{
 "cells": [
  {
   "cell_type": "markdown",
   "metadata": {},
   "source": [
    "## Notebook for testing out the NYT Scraper"
   ]
  },
  {
   "cell_type": "code",
   "execution_count": 1,
   "metadata": {
    "collapsed": true
   },
   "outputs": [],
   "source": [
    "from bs4 import BeautifulSoup\n",
    "import requests\n",
    "import numpy as np"
   ]
  },
  {
   "cell_type": "code",
   "execution_count": 2,
   "metadata": {
    "collapsed": false
   },
   "outputs": [],
   "source": [
    "url = 'http://cooking.nytimes.com/recipes/1017728-spicy-fried-shrimp-with-green-chutney'\n",
    "\n",
    "if 'cooking.nytimes.com' in url:\n",
    "    html = requests.get(url)\n",
    "else:\n",
    "    print(\"URL is no good\")"
   ]
  },
  {
   "cell_type": "code",
   "execution_count": 3,
   "metadata": {
    "collapsed": false
   },
   "outputs": [],
   "source": [
    "soup = BeautifulSoup(html.content, \"html.parser\")"
   ]
  },
  {
   "cell_type": "code",
   "execution_count": 5,
   "metadata": {
    "collapsed": false
   },
   "outputs": [
    {
     "name": "stdout",
     "output_type": "stream",
     "text": [
      "Spicy Fried Shrimp With Green Chutney\n"
     ]
    }
   ],
   "source": [
    "try:\n",
    "    recipe_name = soup.find('h1', {'class': 'recipe-title title name'}).text.strip()\n",
    "except AttributeError:\n",
    "    recipe_name = []\n",
    "    \n",
    "print(recipe_name)"
   ]
  },
  {
   "cell_type": "code",
   "execution_count": 6,
   "metadata": {
    "collapsed": false
   },
   "outputs": [
    {
     "name": "stdout",
     "output_type": "stream",
     "text": [
      "David Tanis\n"
     ]
    }
   ],
   "source": [
    "# <span class=\"byline-name\" itemprop=\"author\">Martha Rose Shulman</span>\n",
    "\n",
    "try:\n",
    "    recipe_author = soup.find('span', {'class': 'byline-name', 'itemprop': 'author'}).text.strip()\n",
    "except AttributeError:\n",
    "    recipe_author = []\n",
    "    \n",
    "print(recipe_author)"
   ]
  },
  {
   "cell_type": "code",
   "execution_count": 7,
   "metadata": {
    "collapsed": false
   },
   "outputs": [
    {
     "name": "stdout",
     "output_type": "stream",
     "text": [
      "http://graphics8.nytimes.com/images/2015/10/07/dining/07KITCHEN1/07KITCHEN1-articleLarge.jpg\n"
     ]
    }
   ],
   "source": [
    "try:\n",
    "    img_url = soup.find('div', {'class': 'recipe-intro'}).find('img')['src']\n",
    "except AttributeError:\n",
    "    img_url = None\n",
    "\n",
    "print(img_url)"
   ]
  },
  {
   "cell_type": "code",
   "execution_count": 8,
   "metadata": {
    "collapsed": false
   },
   "outputs": [
    {
     "name": "stdout",
     "output_type": "stream",
     "text": [
      "['Time40 minutes', 'Yield4 to 6 servings']\n"
     ]
    }
   ],
   "source": [
    "try:\n",
    "    time_yield = [ty.text.strip() for ty in soup.find('ul', {'class': 'recipe-time-yield'}).findAll('li')]\n",
    "except AttributeError:\n",
    "    time_yield = []\n",
    "\n",
    "print(time_yield)"
   ]
  },
  {
   "cell_type": "code",
   "execution_count": 9,
   "metadata": {
    "collapsed": false
   },
   "outputs": [
    {
     "name": "stdout",
     "output_type": "stream",
     "text": [
      "This highly seasoned Indian approach to fried shrimp elevates the concept. Perfect for snacking with drinks, it can be a meal with rice, dal and vegetables.\n",
      "\n",
      "Featured in: \n",
      "Fried Shrimp That Welcome The Spice.\n"
     ]
    }
   ],
   "source": [
    "try:\n",
    "    description = soup.find('div', {'itemprop': 'description'}).text.strip()\n",
    "except AttributeError:\n",
    "    description = ''\n",
    "    \n",
    "print(description)"
   ]
  },
  {
   "cell_type": "code",
   "execution_count": 10,
   "metadata": {
    "collapsed": false
   },
   "outputs": [
    {
     "name": "stdout",
     "output_type": "stream",
     "text": [
      "['Chickpea Flour', 'Shrimp', 'Indian']\n"
     ]
    }
   ],
   "source": [
    "try:\n",
    "    categories = [a.text for a in soup.find('p', {'class': 'special-diets tag-block'}).findAll('a')]\n",
    "except AttributeError:\n",
    "    categories = []\n",
    "    \n",
    "print(categories)"
   ]
  },
  {
   "cell_type": "code",
   "execution_count": 13,
   "metadata": {
    "collapsed": false
   },
   "outputs": [
    {
     "name": "stdout",
     "output_type": "stream",
     "text": [
      "['For the shrimp:', 'For the chutney:']\n"
     ]
    }
   ],
   "source": [
    "rec_in_wrap = soup.find('section', {'class': 'recipe-ingredients-wrap'})\n",
    "headers = [t.text for t in rec_in_wrap.findAll('h4', {'class': 'part-name'})]\n",
    "print(headers)"
   ]
  },
  {
   "cell_type": "code",
   "execution_count": 16,
   "metadata": {
    "collapsed": false
   },
   "outputs": [
    {
     "data": {
      "text/plain": [
       "[[<li itemprop=\"recipeIngredient\">\n",
       "  <span class=\"quantity\">1</span>\n",
       "  <span class=\"ingredient-name\">pound medium <span itemprop=\"name\">shrimp</span>, peeled and deveined</span>\n",
       "  </li>, <li itemprop=\"recipeIngredient\">\n",
       "  <span class=\"quantity\">1</span>\n",
       "  <span class=\"ingredient-name\">teaspoon <span itemprop=\"name\">salt</span></span>\n",
       "  </li>, <li itemprop=\"recipeIngredient\">\n",
       "  <span class=\"quantity\">½</span>\n",
       "  <span class=\"ingredient-name\">teaspoon <span itemprop=\"name\">turmeric</span></span>\n",
       "  </li>, <li itemprop=\"recipeIngredient\">\n",
       "  <span class=\"quantity\">¼</span>\n",
       "  <span class=\"ingredient-name\">teaspoon <span itemprop=\"name\">cayenne</span></span>\n",
       "  </li>, <li itemprop=\"recipeIngredient\">\n",
       "  <span class=\"quantity\">½</span>\n",
       "  <span class=\"ingredient-name\">teaspoon <span itemprop=\"name\">black pepper</span></span>\n",
       "  </li>, <li itemprop=\"recipeIngredient\">\n",
       "  <span class=\"quantity\">½</span>\n",
       "  <span class=\"ingredient-name\">teaspoon grated <span itemprop=\"name\">garlic</span></span>\n",
       "  </li>, <li itemprop=\"recipeIngredient\">\n",
       "  <span class=\"quantity\">½</span>\n",
       "  <span class=\"ingredient-name\">teaspoon grated <span itemprop=\"name\">ginger</span></span>\n",
       "  </li>, <li itemprop=\"recipeIngredient\">\n",
       "  <span class=\"quantity\">½</span>\n",
       "  <span class=\"ingredient-name\">teaspoon <span itemprop=\"name\">garam masala</span></span>\n",
       "  </li>, <li itemprop=\"recipeIngredient\">\n",
       "  <span class=\"quantity\">1</span>\n",
       "  <span class=\"ingredient-name\">teaspoon green or red chile, minced</span>\n",
       "  </li>, <li itemprop=\"recipeIngredient\">\n",
       "  <span class=\"quantity\">2</span>\n",
       "  <span class=\"ingredient-name\">tablespoons chopped <span itemprop=\"name\">cilantro</span></span>\n",
       "  </li>, <li itemprop=\"recipeIngredient\">\n",
       "  <span class=\"quantity\">2</span>\n",
       "  <span class=\"ingredient-name\">tablespoons chopped <span itemprop=\"name\">mint</span></span>\n",
       "  </li>, <li itemprop=\"recipeIngredient\">\n",
       "  <span class=\"quantity\">2</span>\n",
       "  <span class=\"ingredient-name\">tablespoons <span itemprop=\"name\">lemon juice</span></span>\n",
       "  </li>, <li itemprop=\"recipeIngredient\">\n",
       "  <span class=\"quantity\">3</span>\n",
       "  <span class=\"ingredient-name\">tablespoons <span itemprop=\"name\">chickpea flour</span> (besan flour)</span>\n",
       "  </li>, <li itemprop=\"recipeIngredient\">\n",
       "  <span class=\"quantity\">3</span>\n",
       "  <span class=\"ingredient-name\">tablespoons <span itemprop=\"name\">rice flour</span></span>\n",
       "  </li>, <li itemprop=\"recipeIngredient\">\n",
       "  <span class=\"quantity\"></span>\n",
       "  <span class=\"ingredient-name\"><span itemprop=\"name\">Vegetable oil</span> for frying</span>\n",
       "  </li>], [<li itemprop=\"recipeIngredient\">\n",
       "  <span class=\"quantity\">¼</span>\n",
       "  <span class=\"ingredient-name\">cup roughly chopped <span itemprop=\"name\">mint</span></span>\n",
       "  </li>, <li itemprop=\"recipeIngredient\">\n",
       "  <span class=\"quantity\">2</span>\n",
       "  <span class=\"ingredient-name\">cups roughly chopped <span itemprop=\"name\">cilantro</span></span>\n",
       "  </li>, <li itemprop=\"recipeIngredient\">\n",
       "  <span class=\"quantity\">1</span>\n",
       "  <span class=\"ingredient-name\">small <span itemprop=\"name\">garlic</span> clove, minced</span>\n",
       "  </li>, <li itemprop=\"recipeIngredient\">\n",
       "  <span class=\"quantity\">1</span>\n",
       "  <span class=\"ingredient-name\">tablespoon grated <span itemprop=\"name\">ginger</span></span>\n",
       "  </li>, <li itemprop=\"recipeIngredient\">\n",
       "  <span class=\"quantity\">2</span>\n",
       "  <span class=\"ingredient-name\">tablespoons <span itemprop=\"name\">brown sugar</span></span>\n",
       "  </li>, <li itemprop=\"recipeIngredient\">\n",
       "  <span class=\"quantity\">½</span>\n",
       "  <span class=\"ingredient-name\">teaspoon <span itemprop=\"name\">salt</span></span>\n",
       "  </li>, <li itemprop=\"recipeIngredient\">\n",
       "  <span class=\"quantity\">½</span>\n",
       "  <span class=\"ingredient-name\">teaspoon ground <span itemprop=\"name\">cumin</span></span>\n",
       "  </li>, <li itemprop=\"recipeIngredient\">\n",
       "  <span class=\"quantity\">½</span>\n",
       "  <span class=\"ingredient-name\">teaspoon chopped green or red chile</span>\n",
       "  </li>, <li itemprop=\"recipeIngredient\">\n",
       "  <span class=\"quantity\">2</span>\n",
       "  <span class=\"ingredient-name\">tablespoons <span itemprop=\"name\">lime juice</span></span>\n",
       "  </li>], []]"
      ]
     },
     "execution_count": 16,
     "metadata": {},
     "output_type": "execute_result"
    }
   ],
   "source": [
    "[t.text for l.findAll('li', {'itemprop': 'recipeIngredient'}) \n",
    " for l in rec_in_wrap.findAll('ul', {'class': 'recipe-ingredients'})\n",
    "for t in ]\n",
    "\n",
    "# l = [t.findAll('ul', {'class': 'recipe-ingredients'}) for t in rec_in_wrap]\n",
    "# i = [t.findAll('li', {'itemprop': 'recipeIngredient'}) for t in l[0]]\n",
    "# for recipe_group in i:\n",
    "#     print([r.text for r in recipe_group])"
   ]
  },
  {
   "cell_type": "code",
   "execution_count": 30,
   "metadata": {
    "collapsed": false
   },
   "outputs": [
    {
     "name": "stdout",
     "output_type": "stream",
     "text": [
      "[u'1 pound medium shrimp, peeled and deveined', u'1 teaspoon salt', u'\\xbd teaspoon turmeric', u'\\xbc teaspoon cayenne', u'\\xbd teaspoon black pepper', u'\\xbd teaspoon grated garlic', u'\\xbd teaspoon grated ginger', u'\\xbd teaspoon garam masala', u'1 teaspoon green or red chile, minced', u'2 tablespoons chopped cilantro', u'2 tablespoons chopped mint', u'2 tablespoons lemon juice', u'3 tablespoons chickpea flour (besan flour)', u'3 tablespoons rice flour', u'Vegetable oil for frying']\n"
     ]
    }
   ],
   "source": [
    "try:\n",
    "    ingredients_full = [n.text.strip().replace('\\n', ' ') \n",
    "                        for n in soup.find('ul', {'class': 'recipe-ingredients'})\n",
    "                                                .findAll('li')]\n",
    "    ingredients_name = [n.text for n in soup.find('ul', {'class': 'recipe-ingredients'})\n",
    "                                    .findAll('span', {'itemprop': 'name'})]\n",
    "except AttributeError:\n",
    "    ingredients_full = []\n",
    "    ingredients_name = []\n",
    "    \n",
    "#print(ingredients_name)\n",
    "print(ingredients_full)"
   ]
  },
  {
   "cell_type": "code",
   "execution_count": 13,
   "metadata": {
    "collapsed": false
   },
   "outputs": [
    {
     "name": "stdout",
     "output_type": "stream",
     "text": [
      "[u'Preheat oven to 450.', u'Scrub potatoes under running water; dry them, and rub the skin of each with the oil and a little salt. Pierce the skin of each in three or four places with the tines of a fork.', u'Place the potatoes in the oven, and roast for 45 minutes to an hour, depending on the size of the potatoes, until they offer no resistance when a knife is inserted in their centers.', u'Remove the potatoes from the oven, slice them open down the middle, apply a tablespoon of butter to each one and serve immediately.']\n"
     ]
    }
   ],
   "source": [
    "try:\n",
    "    directions = [l.text for l in soup.find('ol', {'class': 'recipe-steps'}).findAll('li')]\n",
    "except AttributeError:\n",
    "    directions = []\n",
    "    \n",
    "print(directions)"
   ]
  },
  {
   "cell_type": "code",
   "execution_count": 14,
   "metadata": {
    "collapsed": false
   },
   "outputs": [
    {
     "name": "stdout",
     "output_type": "stream",
     "text": [
      "[]\n"
     ]
    }
   ],
   "source": [
    "try:\n",
    "    notes = [l.text.strip() for l in soup.find('ul', {'class': 'recipe-notes'}).findAll('li')]\n",
    "except AttributeError:\n",
    "    notes = []\n",
    "    \n",
    "print(notes)"
   ]
  },
  {
   "cell_type": "code",
   "execution_count": 15,
   "metadata": {
    "collapsed": false
   },
   "outputs": [
    {
     "name": "stdout",
     "output_type": "stream",
     "text": [
      "Nutritional analysis per serving (4 servings)\n",
      "330 calories; 12 grams fat; 7 grams saturated fat; 0 grams trans fat; 3 grams monounsaturated fat; 0 grams polyunsaturated fat; 50 grams carbohydrates; 3 grams dietary fiber; 1 gram sugars; 6 grams protein; 30 milligrams cholesterol; 566 milligrams sodium\n"
     ]
    }
   ],
   "source": [
    "try:\n",
    "    servings = soup.find('div', {'class': 'nutrition-tooltip'}).find('h5').text.strip()\n",
    "    nutrition = soup.find('span', {'class': 'description', 'itemprop': 'nutrition'}).text.strip()\n",
    "except AttributeError:\n",
    "    servings, nutrition = [], []\n",
    "    \n",
    "print(servings)\n",
    "print(nutrition)"
   ]
  },
  {
   "cell_type": "code",
   "execution_count": 16,
   "metadata": {
    "collapsed": false
   },
   "outputs": [],
   "source": [
    "from scrapers import NYT\n",
    "#html = requests.get('http://cooking.nytimes.com/recipes/1014382-hazelnut-cheesecake-with-salted-caramel-glaze')\n",
    "nyt = NYT(html.content)"
   ]
  },
  {
   "cell_type": "code",
   "execution_count": 17,
   "metadata": {
    "collapsed": false
   },
   "outputs": [
    {
     "ename": "UnicodeEncodeError",
     "evalue": "'ascii' codec can't encode character u'\\xf1' in position 188: ordinal not in range(128)",
     "output_type": "error",
     "traceback": [
      "\u001b[0;31m---------------------------------------------------------------------------\u001b[0m",
      "\u001b[0;31mUnicodeEncodeError\u001b[0m                        Traceback (most recent call last)",
      "\u001b[0;32m<ipython-input-17-57893b23e58a>\u001b[0m in \u001b[0;36m<module>\u001b[0;34m()\u001b[0m\n\u001b[0;32m----> 1\u001b[0;31m \u001b[0;32mprint\u001b[0m\u001b[0;34m(\u001b[0m\u001b[0mnyt\u001b[0m\u001b[0;34m)\u001b[0m\u001b[0;34m\u001b[0m\u001b[0m\n\u001b[0m",
      "\u001b[0;32m/Users/jdstemmler/Galvanize/Archive/capstone-ideas/exploration/recipe/scrapers.py\u001b[0m in \u001b[0;36m__repr__\u001b[0;34m(self)\u001b[0m\n\u001b[1;32m    141\u001b[0m             \u001b[0;34m\"Description\"\u001b[0m\u001b[0;34m.\u001b[0m\u001b[0mupper\u001b[0m\u001b[0;34m(\u001b[0m\u001b[0;34m)\u001b[0m\u001b[0;34m,\u001b[0m\u001b[0;34m\u001b[0m\u001b[0m\n\u001b[1;32m    142\u001b[0m             \u001b[0;34m\"-----------\"\u001b[0m\u001b[0;34m,\u001b[0m\u001b[0;34m\u001b[0m\u001b[0m\n\u001b[0;32m--> 143\u001b[0;31m             \u001b[0;34m\"{}\\n\"\u001b[0m\u001b[0;34m.\u001b[0m\u001b[0mformat\u001b[0m\u001b[0;34m(\u001b[0m\u001b[0mself\u001b[0m\u001b[0;34m.\u001b[0m\u001b[0mdescription\u001b[0m\u001b[0;34m)\u001b[0m\u001b[0;34m,\u001b[0m\u001b[0;34m\u001b[0m\u001b[0m\n\u001b[0m\u001b[1;32m    144\u001b[0m             \u001b[0;34m\"Ingredients\"\u001b[0m\u001b[0;34m.\u001b[0m\u001b[0mupper\u001b[0m\u001b[0;34m(\u001b[0m\u001b[0;34m)\u001b[0m\u001b[0;34m,\u001b[0m\u001b[0;34m\u001b[0m\u001b[0m\n\u001b[1;32m    145\u001b[0m             \u001b[0;34m\"-----------\"\u001b[0m\u001b[0;34m,\u001b[0m\u001b[0;34m\u001b[0m\u001b[0m\n",
      "\u001b[0;31mUnicodeEncodeError\u001b[0m: 'ascii' codec can't encode character u'\\xf1' in position 188: ordinal not in range(128)"
     ]
    }
   ],
   "source": [
    "print(nyt)"
   ]
  },
  {
   "cell_type": "code",
   "execution_count": null,
   "metadata": {
    "collapsed": true
   },
   "outputs": [],
   "source": []
  }
 ],
 "metadata": {
  "kernelspec": {
   "display_name": "Python 2",
   "language": "python",
   "name": "python2"
  },
  "language_info": {
   "codemirror_mode": {
    "name": "ipython",
    "version": 3
   },
   "file_extension": ".py",
   "mimetype": "text/x-python",
   "name": "python",
   "nbconvert_exporter": "python",
   "pygments_lexer": "ipython3",
   "version": "3.5.0"
  }
 },
 "nbformat": 4,
 "nbformat_minor": 0
}
