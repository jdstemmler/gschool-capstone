{
 "cells": [
  {
   "cell_type": "code",
   "execution_count": 13,
   "metadata": {
    "collapsed": true
   },
   "outputs": [],
   "source": [
    "import re\n",
    "import sys\n",
    "import glob\n",
    "from datetime import datetime, date, timedelta"
   ]
  },
  {
   "cell_type": "code",
   "execution_count": 7,
   "metadata": {
    "collapsed": true
   },
   "outputs": [],
   "source": [
    "# Regex for the Apache common log format.\n",
    "parts = [\n",
    "    r'(?P<server>\\S+)',                   # host %h\n",
    "    r'(?P<host>\\S+)',\n",
    "    r'\\S+',                             # indent %l (unused)\n",
    "    r'(?P<user>\\S+)',                   # user %u\n",
    "    r'\\[(?P<time>.+)\\]',                # time %t\n",
    "    r'\"(?P<request>.*)\"',               # request \"%r\"\n",
    "    r'(?P<status>[0-9]+)',              # status %>s\n",
    "    r'(?P<size>\\S+)',                   # size %b (careful, can be '-')\n",
    "    r'\"(?P<referrer>.*)\"',              # referrer \"%{Referer}i\"\n",
    "    r'\"(?P<agent>.*)\"',                 # user agent \"%{User-agent}i\"\n",
    "]\n",
    "pattern = re.compile(r'\\s+'.join(parts)+r'\\s*\\Z')"
   ]
  },
  {
   "cell_type": "code",
   "execution_count": 22,
   "metadata": {
    "collapsed": false
   },
   "outputs": [],
   "source": [
    "# Change Apache log items into Python types.\n",
    "def pythonized(match):\n",
    "    d = match.groupdict()\n",
    "    \n",
    "    # Clean up the request.\n",
    "  \n",
    "    # Some dashes become None.\n",
    "    for k in (\"user\", \"referrer\", \"agent\"):\n",
    "        if d[k] == \"-\":\n",
    "            d[k] = None\n",
    "      \n",
    "    #  The size dash becomes 0.\n",
    "    if d[\"size\"] == \"-\":\n",
    "        d[\"size\"] = 0\n",
    "    else:\n",
    "        d[\"size\"] = int(d[\"size\"])\n",
    "  \n",
    "    # Convert the timestamp into a datetime object. Accept the server's time zone.\n",
    "    # time, zone = d[\"time\"].split()\n",
    "    d[\"datetime\"] = datetime.strptime(d['time'], \"%d/%b/%Y:%H:%M:%S %z\")\n",
    "  \n",
    "    return d"
   ]
  },
  {
   "cell_type": "code",
   "execution_count": 14,
   "metadata": {
    "collapsed": false
   },
   "outputs": [
    {
     "data": {
      "text/plain": [
       "['files/other_vhosts_access.log',\n",
       " 'files/other_vhosts_access.log.1',\n",
       " 'files/other_vhosts_access.log.2',\n",
       " 'files/other_vhosts_access.log.2.gz',\n",
       " 'files/other_vhosts_access.log.3',\n",
       " 'files/other_vhosts_access.log.3.gz']"
      ]
     },
     "execution_count": 14,
     "metadata": {},
     "output_type": "execute_result"
    }
   ],
   "source": [
    "g = glob.glob('files/other_*')\n",
    "g"
   ]
  },
  {
   "cell_type": "code",
   "execution_count": 23,
   "metadata": {
    "collapsed": false
   },
   "outputs": [],
   "source": [
    "records = []\n",
    "for file in g:\n",
    "    if file.endswith('gz'):\n",
    "        continue\n",
    "    with open(file, 'r') as f:\n",
    "        for line in f:\n",
    "            records.append(pythonized(pattern.match(line)))"
   ]
  },
  {
   "cell_type": "code",
   "execution_count": 18,
   "metadata": {
    "collapsed": false
   },
   "outputs": [
    {
     "data": {
      "text/plain": [
       "'recipe.jdstemmler.com:80 169.229.3.91 - - [29/Dec/2015:20:20:33 +0000] \"\\\\x87\\\\x80\\\\xa9\\\\\"\\\\x1c\\\\xcd\\\\xd34\\\\x86\\\\xe46\\\\x82x\\\\x7fV\\\\xdd\\\\x02\\\\xfb\\\\xe9\\\\xac\\\\xd3\\\\x87\\\\x7f\\\\xbd\\\\x8ag[\\\\x8a\\\\x838\\\\xb6$\\\\x01SE\\\\x0e\\\\x050@\" 405 178 \"-\" \"-\"\\n'"
      ]
     },
     "execution_count": 18,
     "metadata": {},
     "output_type": "execute_result"
    }
   ],
   "source": [
    "line"
   ]
  },
  {
   "cell_type": "code",
   "execution_count": 26,
   "metadata": {
    "collapsed": true
   },
   "outputs": [],
   "source": [
    "dd = pattern.match(line).groupdict()"
   ]
  },
  {
   "cell_type": "code",
   "execution_count": 27,
   "metadata": {
    "collapsed": false
   },
   "outputs": [
    {
     "data": {
      "text/plain": [
       "{'agent': 'Mozilla/5.0 (Macintosh; Intel Mac OS X 10_11_2) AppleWebKit/537.36 (KHTML, like Gecko) Chrome/47.0.2526.106 Safari/537.36',\n",
       " 'host': '64.125.192.130',\n",
       " 'referrer': '-',\n",
       " 'request': 'GET / HTTP/1.1',\n",
       " 'server': 'recipe.jdstemmler.com:80',\n",
       " 'size': '808',\n",
       " 'status': '500',\n",
       " 'time': '21/Dec/2015:20:24:14 +0000',\n",
       " 'user': '-'}"
      ]
     },
     "execution_count": 27,
     "metadata": {},
     "output_type": "execute_result"
    }
   ],
   "source": [
    "dd"
   ]
  },
  {
   "cell_type": "code",
   "execution_count": 17,
   "metadata": {
    "collapsed": false
   },
   "outputs": [
    {
     "data": {
      "text/plain": [
       "'files/other_vhosts_access.log.1'"
      ]
     },
     "execution_count": 17,
     "metadata": {},
     "output_type": "execute_result"
    }
   ],
   "source": [
    "file"
   ]
  },
  {
   "cell_type": "code",
   "execution_count": 28,
   "metadata": {
    "collapsed": false
   },
   "outputs": [],
   "source": [
    "df = pd.DataFrame(records)"
   ]
  }
 ],
 "metadata": {
  "kernelspec": {
   "display_name": "Python 3",
   "language": "python",
   "name": "python3"
  },
  "language_info": {
   "codemirror_mode": {
    "name": "ipython",
    "version": 3
   },
   "file_extension": ".py",
   "mimetype": "text/x-python",
   "name": "python",
   "nbconvert_exporter": "python",
   "pygments_lexer": "ipython3",
   "version": "3.5.1"
  }
 },
 "nbformat": 4,
 "nbformat_minor": 0
}
