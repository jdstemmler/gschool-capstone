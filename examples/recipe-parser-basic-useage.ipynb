{
 "cells": [
  {
   "cell_type": "markdown",
   "metadata": {},
   "source": [
    "# Basic Useage of a Recipe Parser\n",
    "\n",
    "This notebook demonstrates the use of a recipe parser, in this case the NYTimes Cooking parser. The parser is used to translate the HTML content of the page into things python can understand. Each parser object has the following variables available to it:\n",
    "\n",
    "```python\n",
    "recipe_name      # the name of the recipe\n",
    "recipe_author    # the author of the recipe\n",
    "time_yield       # the time it takes to cook and the yield\n",
    "description      # description or introduction of the recipe\n",
    "ingredients_full # the full ingredient list, including quantities (eg `3 Tablespoons sugar`)\n",
    "ingredients_name # just the name of the ingredients (eg `sugar`)\n",
    "directions       # directions for preparation\n",
    "notes            # any notes or tips to accompany the recipe\n",
    "categories       # categories or tags associated with the recipe\n",
    "servings         # number of servings\n",
    "nutrition        # nutrition information, if available\n",
    "img_url          # url of any images for the recipe\n",
    "```\n",
    "Calling `print()` on the recipe (demonstrated below) produces a nice text representation of the recipe"
   ]
  },
  {
   "cell_type": "code",
   "execution_count": 1,
   "metadata": {
    "collapsed": false
   },
   "outputs": [],
   "source": [
    "# import requests to fetch the html content and the recipe parser\n",
    "import requests\n",
    "from recipetools.parsers import NYTimesCooking"
   ]
  },
  {
   "cell_type": "markdown",
   "metadata": {},
   "source": [
    "The recipe parser requires as input the raw HTML content as produced by requests. It's possible (and quite likely) that some version of urllib could provide the same functionality, but this package uses requests."
   ]
  },
  {
   "cell_type": "code",
   "execution_count": 2,
   "metadata": {
    "collapsed": false
   },
   "outputs": [],
   "source": [
    "html = requests.get('http://cooking.nytimes.com/recipes/1012888-pasta-with-kale-pesto-and-roasted-butternut-squash')\n",
    "nyt = NYTimesCooking(html.content)"
   ]
  },
  {
   "cell_type": "markdown",
   "metadata": {},
   "source": [
    "We will print out the recipe in nice text form"
   ]
  },
  {
   "cell_type": "code",
   "execution_count": 3,
   "metadata": {
    "collapsed": false
   },
   "outputs": [
    {
     "name": "stdout",
     "output_type": "stream",
     "text": [
      "NAME\n",
      "----\n",
      "Pasta With Kale Pesto and Roasted Butternut Squash\n",
      "\n",
      "AUTHOR\n",
      "------\n",
      "Melissa Clark\n",
      "\n",
      "DESCRIPTION\n",
      "-----------\n",
      "Here is a one-pot meal designed explicitly for the hungriness of a long-distance runner, with garlicky kale pesto and sweet roasted butternut squash. Making the pesto with kale instead of basil gives it a structure the basil-rich original lacks, and it interacts beautifully with the crisp-and-soft smoothness of the roasted squash. A terrific dish.\n",
      "\n",
      "Featured in: \n",
      "Feeding A Runner With Miles To Burn.\n",
      "\n",
      "INGREDIENTS\n",
      "-----------\n",
      "1 ½ pounds butternut squash\n",
      "½ cup extra virgin olive oil, more for drizzling\n",
      "¾ teaspoon kosher salt, more for squash\n",
      "Freshly ground black pepper\n",
      "1 small bunch (about 1/2 pound) lacinato kale, center ribs removed\n",
      "8 ounces pasta (penne rigate works well)\n",
      "⅓ cup toasted pine nuts\n",
      "2 large garlic cloves, roughly chopped\n",
      "Finely grated zest of 1 lemon\n",
      "Freshly squeezed lemon juice, to taste\n",
      "Grated Parmesan cheese, for serving\n",
      "\n",
      "DIRECTIONS\n",
      "----------\n",
      "Preheat oven to 400 degrees. Use a vegetable peeler to peel squash, then halve it lengthwise and scoop out seeds. Dice squash flesh into 1-inch pieces, place on a baking sheet, and toss with olive oil and season generously with salt and pepper. Spread pieces into an even layer, making sure there is space between them. Roast, stirring squash pieces once or twice, until golden brown and tender, about 30 minutes.\n",
      "\n",
      "Meanwhile, bring a large pot of salted water to a boil; have ready a bowl of ice water. Drop kale into boiling water and cook for 45 seconds. Use tongs or slotted spoon to transfer kale to ice water. Bring water in pot back to a boil, adding more if necessary so there is enough to cook pasta.\n",
      "\n",
      "Drain kale well, then wrap tightly in a dry kitchen towel and squeeze thoroughly to remove any excess moisture. Roughly chop leaves. When water in pot comes back to a boil, cook pasta according to package directions.\n",
      "\n",
      "In a food processor, pulse together kale, nuts, garlic, salt and lemon zest until mixture is smooth and salt has dissolved. With motor running, slowly drizzle in the oil until fully incorporated. Taste and add more salt dissolved in a little lemon juice, if necessary.\n",
      "\n",
      "Drain pasta, reserving a little cooking water. Toss pasta with kale pesto and some pasta cooking water if necessary to help it coat pasta. Add cheese, lemon juice and salt to taste. Serve topped with squash and more cheese.\n",
      "\n",
      "NOTES\n",
      "-----\n",
      "\n",
      "NUTRITION INFORMATION\n",
      "---------------------\n",
      "Nutritional analysis per serving (2 servings)\n",
      "  1270 calories\n",
      "   72 grams fat\n",
      "   9 grams saturated fat\n",
      "   43 grams monounsaturated fat\n",
      "   14 grams polyunsaturated fat\n",
      "   140 grams carbohydrates\n",
      "   15 grams dietary fiber\n",
      "   14 grams sugars\n",
      "   26 grams protein\n",
      "   69 milligrams sodium\n"
     ]
    }
   ],
   "source": [
    "print(nyt)"
   ]
  }
 ],
 "metadata": {
  "kernelspec": {
   "display_name": "Python 3",
   "language": "python",
   "name": "python3"
  },
  "language_info": {
   "codemirror_mode": {
    "name": "ipython",
    "version": 3
   },
   "file_extension": ".py",
   "mimetype": "text/x-python",
   "name": "python",
   "nbconvert_exporter": "python",
   "pygments_lexer": "ipython3",
   "version": "3.5.1"
  }
 },
 "nbformat": 4,
 "nbformat_minor": 0
}
