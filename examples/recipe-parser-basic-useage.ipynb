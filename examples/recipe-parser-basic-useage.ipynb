{
 "cells": [
  {
   "cell_type": "markdown",
   "metadata": {},
   "source": [
    "# Basic Useage of a Recipe Parser\n",
    "\n",
    "This notebook demonstrates the use of a recipe parser, in this case the NYTimes Cooking parser. The parser is used to translate the HTML content of the page into things python can understand. Each parser object has the following variables available to it:\n",
    "\n",
    "```python\n",
    "recipe_name      # the name of the recipe\n",
    "recipe_author    # the author of the recipe\n",
    "time_yield       # the time it takes to cook and the yield\n",
    "description      # description or introduction of the recipe\n",
    "ingredients_full # the full ingredient list, including quantities (eg `3 Tablespoons sugar`)\n",
    "ingredients_name # just the name of the ingredients (eg `sugar`)\n",
    "directions       # directions for preparation\n",
    "notes            # any notes or tips to accompany the recipe\n",
    "categories       # categories or tags associated with the recipe\n",
    "servings         # number of servings\n",
    "nutrition        # nutrition information, if available\n",
    "img_url          # url of any images for the recipe\n",
    "```\n",
    "Calling `print()` on the recipe (demonstrated below) produces a nice text representation of the recipe"
   ]
  },
  {
   "cell_type": "code",
   "execution_count": 4,
   "metadata": {
    "collapsed": false
   },
   "outputs": [],
   "source": [
    "# import requests to fetch the html content and the recipe parser\n",
    "import requests\n",
    "from recipetools.parsers import NYTimesCooking"
   ]
  },
  {
   "cell_type": "markdown",
   "metadata": {},
   "source": [
    "The recipe parser requires as input the raw HTML content as produced by requests. It's possible (and quite likely) that some version of urllib could provide the same functionality, but this package uses requests."
   ]
  },
  {
   "cell_type": "code",
   "execution_count": 5,
   "metadata": {
    "collapsed": false
   },
   "outputs": [],
   "source": [
    "html = requests.get('http://cooking.nytimes.com/recipes/8096-grilled-pineapple-salsa')\n",
    "nyt = NYTimesCooking(html.content)"
   ]
  },
  {
   "cell_type": "markdown",
   "metadata": {},
   "source": [
    "We will print out the recipe in nice text form"
   ]
  },
  {
   "cell_type": "code",
   "execution_count": 6,
   "metadata": {
    "collapsed": false
   },
   "outputs": [
    {
     "name": "stdout",
     "output_type": "stream",
     "text": [
      "NAME\n",
      "----\n",
      "Grilled Pineapple Salsa\n",
      "\n",
      "AUTHOR\n",
      "------\n",
      "Mark Bittman\n",
      "\n",
      "DESCRIPTION\n",
      "-----------\n",
      "\n",
      "\n",
      "INGREDIENTS\n",
      "-----------\n",
      "OPTION NO 1\n",
      "  1 teaspoon mild chili powder, like Aleppo or New Mexico\n",
      "  1 teaspoon salt\n",
      "  1 teaspoon sugar\n",
      "  1 medium pineapple, peeled, cored and sliced or quartered\n",
      "\n",
      "OPTION NO 2\n",
      "  1 medium red onion, chopped\n",
      "  1 tablespoon lemon juice, or to taste\n",
      "  ¼ cup chopped fresh cilantro or mint leaves, or a combination\n",
      "\n",
      "OPTION NO 3\n",
      "  4 scallions, chopped\n",
      "  1 tablespoon minced fresh ginger\n",
      "  ½ teaspoon minced garlic\n",
      "  2 teaspoons soy sauce\n",
      "  1 tablespoon lime juice, or to taste\n",
      "\n",
      "DIRECTIONS\n",
      "----------\n",
      "Start a charcoal or gas grill; fire should be moderately hot. Combine chili powder, salt and sugar and sprinkle pineapple with it. Grill on each side until lightly browned, 5 to 10 minutes total. Remove and cool.\n",
      "\n",
      "Roughly chop pineapple and combine it and its juice with any of the 3 groups of ingredients. Taste and adjust seasoning and serve immediately.\n",
      "\n",
      "NOTES\n",
      "-----\n",
      "\n",
      "NUTRITION INFORMATION\n",
      "---------------------\n",
      "\n",
      "  \n"
     ]
    }
   ],
   "source": [
    "print(nyt)"
   ]
  }
 ],
 "metadata": {
  "kernelspec": {
   "display_name": "Python 3",
   "language": "python",
   "name": "python3"
  },
  "language_info": {
   "codemirror_mode": {
    "name": "ipython",
    "version": 3
   },
   "file_extension": ".py",
   "mimetype": "text/x-python",
   "name": "python",
   "nbconvert_exporter": "python",
   "pygments_lexer": "ipython3",
   "version": "3.5.1"
  }
 },
 "nbformat": 4,
 "nbformat_minor": 0
}
